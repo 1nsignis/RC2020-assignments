{
  "nbformat": 4,
  "nbformat_minor": 0,
  "metadata": {
    "colab": {
      "name": "assignment-1.ipynb",
      "provenance": [],
      "collapsed_sections": [
        "EGrrxPQi6kwF"
      ],
      "authorship_tag": "ABX9TyPCaEyHvxWW4g2PLIfFEtPp",
      "include_colab_link": true
    },
    "kernelspec": {
      "name": "python3",
      "display_name": "Python 3"
    }
  },
  "cells": [
    {
      "cell_type": "markdown",
      "metadata": {
        "id": "view-in-github",
        "colab_type": "text"
      },
      "source": [
        "<a href=\"https://colab.research.google.com/github/jlegatheaux/RC2020-assignments/blob/master/assignment-1/assignment-1.ipynb\" target=\"_parent\"><img src=\"https://colab.research.google.com/assets/colab-badge.svg\" alt=\"Open In Colab\"/></a>"
      ]
    },
    {
      "cell_type": "markdown",
      "metadata": {
        "id": "b5kjE2IbjwGf"
      },
      "source": [
        "# Notebook Setup\n",
        "\n",
        "You must execute the cell below before proceeding..."
      ]
    },
    {
      "cell_type": "code",
      "metadata": {
        "id": "DelUOf6gfsE3",
        "outputId": "419564c6-d3d9-4610-8c5b-d968d75a67ea",
        "colab": {
          "base_uri": "https://localhost:8080/",
          "height": 34
        }
      },
      "source": [
        "%%bash\n",
        "mkdir -p configs assignment1\n",
        "# Fetch the CNSS repository and compile it\n",
        "git clone https://github.com/jlegatheaux/cnss.git 2> /dev/null || git -C cnss pull\n",
        "javac -d cnss-classes cnss/src/*/*/*.java"
      ],
      "execution_count": 45,
      "outputs": [
        {
          "output_type": "stream",
          "text": [
            "Already up to date.\n"
          ],
          "name": "stdout"
        }
      ]
    },
    {
      "cell_type": "markdown",
      "metadata": {
        "id": "fEduXmaSfyDB"
      },
      "source": [
        "# RC 2020/2021 - Assignment 1\n",
        "\n",
        "## Goals\n",
        "With this assignment students will get a better understanding of how packet switching networks work, what is the transit time of packets in this type of networks and the way to compute it, and how packet switchning network properties impact the end-to-end performance of sending information from a node to another one.\n",
        "\n",
        "## Assumptions\n",
        "In what follows we will consider, by hypothesis, that all links are perfect and never corrupt or loose packets. The same property applies to nodes - they are bullet proof and never crash or loose packets. Also, as we are using CNSS, all computations are performed instantly, without any delay.\n",
        "\n",
        "Network configurations of the different experiments made in this assignment use links with the same characteristics: bandwidth of 2 M bits per second, or 2,000,000 bps, and a propagation time, or latency, of 20 ms, since they have 4,000 Km each (4000 Km / 200,000 Km per second = 4 x 10^3 / 2 x 10^5 Km per second = 2 x 10^-2 s = 20 ms).\n",
        "\n",
        "## Understanding store & forward, end-to-end transit time and the time required to transfer information in a packet switched network\n",
        "\n",
        "**WARNING 1: please study section 3.2 and 3.3 of the book supporting the course to fully understand this section.**\n",
        "\n",
        "**WARNING 2: please do not forget to update CNSS to its lastest version.**\n",
        "\n",
        "In what follows, we are going to make several experiments with the goal of understanding which factors contribute to the transit time of a packet in a network, as well as to get a first glimpse of what impacts the time required to transfer information from one node to a different one in a packet switched network.\n",
        "\n",
        "The three network configurations used in the first set of experiments [config1.1.txt](https://github.com/jlegatheaux/RC2020-assignments/blob/master/assignment-1/configs/config1.1.txt), [config1.2.txt](https://github.com/jlegatheaux/RC2020-assignments/blob/master/assignment-1/configs/config1.2.txt) and \n",
        "[config1.3.txt](https://github.com/jlegatheaux/RC2020-assignments/blob/master/assignment-1/configs/config1.3.txt) are depicted below:\n",
        "\n"
      ]
    },
    {
      "cell_type": "markdown",
      "metadata": {
        "id": "6HbanVzemT6L"
      },
      "source": [
        "![](https://github.com/jlegatheaux/RC2020-assignments/blob/master/assignment-1/figs/config1.1-3.png?raw=1)"
      ]
    },
    {
      "cell_type": "code",
      "metadata": {
        "id": "KswRWrm1lx0Z",
        "outputId": "fa7cae01-f8d2-4d76-b90b-f1e6c0031796",
        "colab": {
          "base_uri": "https://localhost:8080/",
          "height": 34
        }
      },
      "source": [
        "%%writefile configs/config1.1.txt\n",
        "# A network with a sender node and a receiver node interconnected\n",
        "# by a direct link. The link has 1 Mbps bandwidth and 10 ms latency\n",
        "\n",
        "\n",
        "# uncomment if you want to see control algorithms traces\n",
        "# parameter trace \n",
        "\n",
        "\n",
        "Node 0 1 cnss.lib.EndSystemControl assignment1.FilesSender 10\n",
        "Node 1 1 cnss.lib.EndSystemControl assignment1.FilesReceiver\n",
        "\n",
        "Link 0.0 1.0 2000000 20 0.0 0.0"
      ],
      "execution_count": 19,
      "outputs": [
        {
          "output_type": "stream",
          "text": [
            "Overwriting configs/config1.1.txt\n"
          ],
          "name": "stdout"
        }
      ]
    },
    {
      "cell_type": "code",
      "metadata": {
        "id": "wXN29SsDlyCt",
        "outputId": "b697643b-8e93-4976-d282-ed730596bdb1",
        "colab": {
          "base_uri": "https://localhost:8080/",
          "height": 34
        }
      },
      "source": [
        "%%writefile configs/config1.2.txt\n",
        "# A network with a sender node and a receiver node interconnected\n",
        "# by a switch. Both links have 1 Mbps bandwidth and 10 ms latency\n",
        "\n",
        "\n",
        "# uncomment if you want to see control algorithms traces\n",
        "# parameter trace   \n",
        "\n",
        "Node 0 1 cnss.lib.EndSystemControl assignment1.FilesSender 10\n",
        "Node 1 1 cnss.lib.EndSystemControl assignment1.FilesReceiver\n",
        "Node 2 2 cnss.lib.FloodingSwitch cnss.lib.EmptyApp\n",
        "\n",
        "Link 0.0 2.0 2000000 20 0.0 0.0\n",
        "Link 1.0 2.1 2000000 20 0.0 0.0"
      ],
      "execution_count": 20,
      "outputs": [
        {
          "output_type": "stream",
          "text": [
            "Overwriting configs/config1.2.txt\n"
          ],
          "name": "stdout"
        }
      ]
    },
    {
      "cell_type": "code",
      "metadata": {
        "id": "2QQ75xsElyL0",
        "outputId": "04964726-ea6c-4990-8a18-690c74a25080",
        "colab": {
          "base_uri": "https://localhost:8080/",
          "height": 34
        }
      },
      "source": [
        "%%writefile configs/config1.3.txt\n",
        "# A network with a sender node and a receiver node interconnected\n",
        "# by two switches. All links have 1 Mbps bandwidth and 10 ms latency\n",
        "\n",
        "# uncomment if you want to see control algorithms traces\n",
        "# parameter trace   \n",
        "\n",
        "Node 0 1 cnss.lib.EndSystemControl assignment1.FilesSender 10\n",
        "Node 1 1 cnss.lib.EndSystemControl assignment1.FilesReceiver\n",
        "Node 2 2 cnss.lib.FloodingSwitch cnss.lib.EmptyApp\n",
        "Node 3 2 cnss.lib.FloodingSwitch cnss.lib.EmptyApp\n",
        "\n",
        "Link 0.0 2.0 2000000 20 0.0 0.0\n",
        "Link 2.1 3.0 2000000 20 0.0 0.0\n",
        "Link 3.1 1.0 2000000 20 0.0 0.0"
      ],
      "execution_count": 21,
      "outputs": [
        {
          "output_type": "stream",
          "text": [
            "Overwriting configs/config1.3.txt\n"
          ],
          "name": "stdout"
        }
      ]
    },
    {
      "cell_type": "code",
      "metadata": {
        "id": "EogclebxpBx8",
        "outputId": "ef194615-f231-434e-b4f5-c6054c0e9ac8",
        "colab": {
          "base_uri": "https://localhost:8080/",
          "height": 34
        }
      },
      "source": [
        "%%writefile assignment1/FilesSender.java\n",
        "\n",
        "package assignment1;\n",
        "import cnss.simulator.*;\n",
        "import cnss.lib.*;\n",
        "\n",
        "public class FilesSender extends AbstractApplicationAlgorithm {\n",
        "\n",
        "\tpublic static int BLOCKSIZE = 10000; // 10000*8 = 80000 bits\n",
        "\tpublic static int TOTAL_PACKETSIZE = BLOCKSIZE+Packet.HEADERSIZE;\n",
        "\n",
        "\tint totSent = 0;\n",
        "\tint filesize = 0;\n",
        "\tint totalBlocks = 0;\n",
        "\n",
        "\tpublic FilesSender() {\n",
        "\t\tsuper(true, \"Files-sender\");\n",
        "\t}\n",
        "\n",
        "\tpublic int initialise(int now, int node_id, Node self, String[] args) {\n",
        "\t\tsuper.initialise(now, node_id, self, args);\n",
        "\t\tlog(0, \"starting\");\n",
        "\t\tif ( args.length != 1 ) {\n",
        "\t\t\tlog(now, \"ERROR: missing argument totalBlocks\");\n",
        "\t\t\tSystem.exit(-1);\n",
        "\t\t}\n",
        "\t\ttotalBlocks = Integer.parseInt(args[0]);\n",
        "\t\tfor ( int i = 1; i <= totalBlocks; i++ ) {\n",
        "\t\t\tself.send( self.createDataPacket( 1, new byte[BLOCKSIZE]));\n",
        "\t\t\tlog(now, \"sent packet of size \"+TOTAL_PACKETSIZE+\" n. \"+i);\n",
        "\t\t}\n",
        "\t\tself.set_timeout(60000); // 60 seconds later\n",
        "\t\treturn 0;\t\n",
        "\t}\n",
        "\n",
        "\tpublic void on_timeout(int now) {\n",
        "\t\tself.send( self.createDataPacket( 1, new byte[TOTAL_PACKETSIZE*totalBlocks]));\n",
        "\t\tlog(now, \"sent packet of size: \"+TOTAL_PACKETSIZE*totalBlocks+\" n. \"+(totalBlocks+1));\n",
        "\t}\n",
        "\n",
        "\tpublic void on_receive(int now, DataPacket p) {\n",
        "\t\tlog(now, \"received ack \"+p+ \" w/ payload \"+new String(p.getPayload()));\n",
        "\t}\n",
        "\n",
        "\tpublic void showState(int now) {\n",
        "\t\tSystem.out.println(name + \" sent \" + totSent + \" packets with blocks\");\n",
        "\t}\n",
        "} "
      ],
      "execution_count": 23,
      "outputs": [
        {
          "output_type": "stream",
          "text": [
            "Overwriting assignment1/FilesSender.java\n"
          ],
          "name": "stdout"
        }
      ]
    },
    {
      "cell_type": "markdown",
      "metadata": {
        "id": "h_fJsdThzzqR"
      },
      "source": [
        "The sender code, found in file [FilesSender](https://github.com/jlegatheaux/RC2020-assignments/blob/master/assignment-1/FilesSender.java) deserves only a few comments. \n",
        "\n",
        "Upon initialization, the file is transfered in multiple packets, as given\n",
        "by the node's argument.\n",
        "\n",
        "To send the file in just one big packet, a timeout is setup during initialisation to set an alarm for 60000 ms or 60 seconds later. The big packet is then sent when upcall `on_timeout()` is executed. \n",
        "\n",
        "In order to make both tranfer solutions comparable, when one only packet is sent, its size has been incresed n times the size of the header of a packet (n times 20 bytes). Therefore, the total number of bytes transfered with the two solutions only differs by 20 bytes (the size of the header of the big packet). \n",
        "\n",
        "The application code of the sender node is prepared to receive an ack from the receiver. However, with these three experiments, no acks are sent by node 1, the receiver. \n",
        "\n",
        "The application uses logging to show how the transfer is progressing. The application code of the receiver node also uses logging to show when packets are received, see below.\n",
        "\n",
        "The receiver application contained in [FilesReceiver](https://github.com/jlegatheaux/RC2020-assignments/blob/master/assignment-1/FilesReceiver.java) is shown below. The most relevant part is its `on_receive()` upcall, which merely logs packet reception and the total number of packets already received.\n",
        "\n"
      ]
    },
    {
      "cell_type": "code",
      "metadata": {
        "id": "ZDIgggl2pyLI",
        "outputId": "d84a71e8-1598-448a-c001-3cbbc87b05d8",
        "colab": {
          "base_uri": "https://localhost:8080/",
          "height": 34
        }
      },
      "source": [
        "%%writefile assignment1/FilesReceiver.java\n",
        "\n",
        "package assignment1;\n",
        "import cnss.simulator.*;\n",
        "import cnss.lib.*;\n",
        "\n",
        "public class FilesReceiver extends AbstractApplicationAlgorithm {\n",
        "\t\n",
        "\tint totReceived = 0;\n",
        "\n",
        "  public FilesReceiver() {\n",
        "      super(true, \"Files-receiver\");\n",
        "  }\n",
        "\n",
        "  public int initialise(int now, int node_id, Node self, String[] args) {\n",
        "\t  super.initialise(now, node_id, self, args);\n",
        "\t  log(0, \"starting\");\n",
        "\t  return 0;\n",
        "\t}\n",
        "\n",
        "  public void on_receive( int now, DataPacket p ) {\n",
        "\t  totReceived++;\n",
        "\t  log(now, \"got: \" + p + \" n. \"+totReceived);\n",
        "  }\n",
        "  \n",
        "\tpublic void showState(int now) {\n",
        "\t\tSystem.out.println(name + \" received \"+totReceived+\" packets with blocks\");\n",
        "\t}\n",
        "} "
      ],
      "execution_count": 24,
      "outputs": [
        {
          "output_type": "stream",
          "text": [
            "Overwriting assignment1/FilesReceiver.java\n"
          ],
          "name": "stdout"
        }
      ]
    },
    {
      "cell_type": "markdown",
      "metadata": {
        "id": "2suOd13L0bpr"
      },
      "source": [
        "### First Experiment"
      ]
    },
    {
      "cell_type": "code",
      "metadata": {
        "id": "rx70ZFOtqUHR",
        "outputId": "695a4c0a-2197-40e1-d650-252c00e90b5b",
        "colab": {
          "base_uri": "https://localhost:8080/",
          "height": 629
        }
      },
      "source": [
        "%%bash\n",
        "\n",
        "javac -cp .:cnss-classes assignment1/*.java\n",
        "java -cp .:cnss-classes cnss.simulator.Simulator configs/config1.1.txt"
      ],
      "execution_count": 25,
      "outputs": [
        {
          "output_type": "stream",
          "text": [
            "Loading configuration : configs/config1.1.txt\n",
            "Reading file\n",
            "Created Node 0: 1 interf.s, ctr code: cnss.lib.EndSystemControl app code: assignment1.FilesSender\n",
            "Created Node 1: 1 interf.s, ctr code: cnss.lib.EndSystemControl app code: assignment1.FilesReceiver\n",
            "Added link to node 0 - Link (Node1:0 I1:0)<-->(Node2:1 I2:0) bwd: 2000000 bps lat: 20 ms error %: 0.0 jit %: 0.0 up\n",
            "Added link to node 1 - Link (Node1:0 I1:0)<-->(Node2:1 I2:0) bwd: 2000000 bps lat: 20 ms error %: 0.0 jit %: 0.0 up\n",
            "\n",
            "simulation starts - first processing step with clock = 0\n",
            "\n",
            "log: Files-sender time 0 node 0 starting\n",
            "log: Files-sender time 0 node 0 sent packet of size 10020 n. 1\n",
            "log: Files-sender time 0 node 0 sent packet of size 10020 n. 2\n",
            "log: Files-sender time 0 node 0 sent packet of size 10020 n. 3\n",
            "log: Files-sender time 0 node 0 sent packet of size 10020 n. 4\n",
            "log: Files-sender time 0 node 0 sent packet of size 10020 n. 5\n",
            "log: Files-sender time 0 node 0 sent packet of size 10020 n. 6\n",
            "log: Files-sender time 0 node 0 sent packet of size 10020 n. 7\n",
            "log: Files-sender time 0 node 0 sent packet of size 10020 n. 8\n",
            "log: Files-sender time 0 node 0 sent packet of size 10020 n. 9\n",
            "log: Files-sender time 0 node 0 sent packet of size 10020 n. 10\n",
            "log: Files-receiver time 0 node 1 starting\n",
            "log: Files-receiver time 60 node 1 got: src 0 dst 1 type DATA ttl 32 seq 1 size 10020 n. 1\n",
            "log: Files-receiver time 100 node 1 got: src 0 dst 1 type DATA ttl 32 seq 2 size 10020 n. 2\n",
            "log: Files-receiver time 140 node 1 got: src 0 dst 1 type DATA ttl 32 seq 3 size 10020 n. 3\n",
            "log: Files-receiver time 180 node 1 got: src 0 dst 1 type DATA ttl 32 seq 4 size 10020 n. 4\n",
            "log: Files-receiver time 220 node 1 got: src 0 dst 1 type DATA ttl 32 seq 5 size 10020 n. 5\n",
            "log: Files-receiver time 260 node 1 got: src 0 dst 1 type DATA ttl 32 seq 6 size 10020 n. 6\n",
            "log: Files-receiver time 300 node 1 got: src 0 dst 1 type DATA ttl 32 seq 7 size 10020 n. 7\n",
            "log: Files-receiver time 340 node 1 got: src 0 dst 1 type DATA ttl 32 seq 8 size 10020 n. 8\n",
            "log: Files-receiver time 380 node 1 got: src 0 dst 1 type DATA ttl 32 seq 9 size 10020 n. 9\n",
            "log: Files-receiver time 420 node 1 got: src 0 dst 1 type DATA ttl 32 seq 10 size 10020 n. 10\n",
            "log: Files-sender time 60000 node 0 sent packet of size: 100200 n. 11\n",
            "log: Files-receiver time 60420 node 1 got: src 0 dst 1 type DATA ttl 32 seq 11 size 100220 n. 11\n",
            "\n",
            "simulation ended - last processing step with clock = 60420\n",
            "\n"
          ],
          "name": "stdout"
        }
      ]
    },
    {
      "cell_type": "markdown",
      "metadata": {
        "id": "JPwyXGOz2Tqp"
      },
      "source": [
        "### Analysis\n",
        "\n",
        "By following the output of the simulation, it is easy to observe that the 10th packet has been received at time 420. Thus, the file took 420 ms seconds to be transfered with the solution that sent 10 times 10,000 bytes packets. The same time it takes when the file is transferred in one only big packet of 100,000 bytes plus 200 bytes of headers.\n",
        "\n",
        "You can easily compute analytically these results. \n",
        "\n",
        "In order to fully understand how that should be done, you must study sections 3.2 and 3.3 of Chapter 3 of the book of the course. \n",
        "\n",
        "Transmission time (Tt) of a packet with 10,000 Bytes (80,000 bits) to a link with 2 Mbps bit rate is 40 ms (Tt = size in bits / bit rate = 80000 / 2000000 = 0,040). The transmission time of the big packet is 10 times this and the propagation time of the link is 20 ms.\n"
      ]
    },
    {
      "cell_type": "markdown",
      "metadata": {
        "id": "jZfRFbPY5r-T"
      },
      "source": [
        "#### Second Experiment\n",
        "\n",
        "After understanding everything you can now proceed to the next experiment, and give the following command:\n",
        "\n"
      ]
    },
    {
      "cell_type": "code",
      "metadata": {
        "id": "cYPJavnE54yx",
        "outputId": "c671b5df-37fe-416f-eb22-e70ffd29911e",
        "colab": {
          "base_uri": "https://localhost:8080/",
          "height": 680
        }
      },
      "source": [
        "%%bash\n",
        "java -cp .:cnss-classes cnss.simulator.Simulator configs/config1.2.txt"
      ],
      "execution_count": 26,
      "outputs": [
        {
          "output_type": "stream",
          "text": [
            "Loading configuration : configs/config1.2.txt\n",
            "Reading file\n",
            "Created Node 0: 1 interf.s, ctr code: cnss.lib.EndSystemControl app code: assignment1.FilesSender\n",
            "Created Node 1: 1 interf.s, ctr code: cnss.lib.EndSystemControl app code: assignment1.FilesReceiver\n",
            "Created Node 2: 2 interf.s, ctr code: cnss.lib.FloodingSwitch app code: cnss.lib.EmptyApp\n",
            "Added link to node 0 - Link (Node1:0 I1:0)<-->(Node2:2 I2:0) bwd: 2000000 bps lat: 20 ms error %: 0.0 jit %: 0.0 up\n",
            "Added link to node 2 - Link (Node1:0 I1:0)<-->(Node2:2 I2:0) bwd: 2000000 bps lat: 20 ms error %: 0.0 jit %: 0.0 up\n",
            "Added link to node 1 - Link (Node1:1 I1:0)<-->(Node2:2 I2:1) bwd: 2000000 bps lat: 20 ms error %: 0.0 jit %: 0.0 up\n",
            "Added link to node 2 - Link (Node1:1 I1:0)<-->(Node2:2 I2:1) bwd: 2000000 bps lat: 20 ms error %: 0.0 jit %: 0.0 up\n",
            "\n",
            "simulation starts - first processing step with clock = 0\n",
            "\n",
            "log: Files-sender time 0 node 0 starting\n",
            "log: Files-sender time 0 node 0 sent packet of size 10020 n. 1\n",
            "log: Files-sender time 0 node 0 sent packet of size 10020 n. 2\n",
            "log: Files-sender time 0 node 0 sent packet of size 10020 n. 3\n",
            "log: Files-sender time 0 node 0 sent packet of size 10020 n. 4\n",
            "log: Files-sender time 0 node 0 sent packet of size 10020 n. 5\n",
            "log: Files-sender time 0 node 0 sent packet of size 10020 n. 6\n",
            "log: Files-sender time 0 node 0 sent packet of size 10020 n. 7\n",
            "log: Files-sender time 0 node 0 sent packet of size 10020 n. 8\n",
            "log: Files-sender time 0 node 0 sent packet of size 10020 n. 9\n",
            "log: Files-sender time 0 node 0 sent packet of size 10020 n. 10\n",
            "log: Files-receiver time 0 node 1 starting\n",
            "log: Files-receiver time 120 node 1 got: src 0 dst 1 type DATA ttl 31 seq 1 size 10020 n. 1\n",
            "log: Files-receiver time 160 node 1 got: src 0 dst 1 type DATA ttl 31 seq 2 size 10020 n. 2\n",
            "log: Files-receiver time 200 node 1 got: src 0 dst 1 type DATA ttl 31 seq 3 size 10020 n. 3\n",
            "log: Files-receiver time 240 node 1 got: src 0 dst 1 type DATA ttl 31 seq 4 size 10020 n. 4\n",
            "log: Files-receiver time 280 node 1 got: src 0 dst 1 type DATA ttl 31 seq 5 size 10020 n. 5\n",
            "log: Files-receiver time 320 node 1 got: src 0 dst 1 type DATA ttl 31 seq 6 size 10020 n. 6\n",
            "log: Files-receiver time 360 node 1 got: src 0 dst 1 type DATA ttl 31 seq 7 size 10020 n. 7\n",
            "log: Files-receiver time 400 node 1 got: src 0 dst 1 type DATA ttl 31 seq 8 size 10020 n. 8\n",
            "log: Files-receiver time 440 node 1 got: src 0 dst 1 type DATA ttl 31 seq 9 size 10020 n. 9\n",
            "log: Files-receiver time 480 node 1 got: src 0 dst 1 type DATA ttl 31 seq 10 size 10020 n. 10\n",
            "log: Files-sender time 60000 node 0 sent packet of size: 100200 n. 11\n",
            "log: Files-receiver time 60840 node 1 got: src 0 dst 1 type DATA ttl 31 seq 11 size 100220 n. 11\n",
            "\n",
            "simulation ended - last processing step with clock = 60840\n",
            "\n"
          ],
          "name": "stdout"
        }
      ]
    },
    {
      "cell_type": "markdown",
      "metadata": {
        "id": "QL8wVZ1H5zO9"
      },
      "source": [
        "### Third Experiment"
      ]
    },
    {
      "cell_type": "code",
      "metadata": {
        "id": "TwZGdo8B6KMQ",
        "outputId": "1b6211ae-4208-497c-83f1-261a0e046060",
        "colab": {
          "base_uri": "https://localhost:8080/",
          "height": 731
        }
      },
      "source": [
        "%%bash\n",
        "java -cp .:cnss-classes cnss.simulator.Simulator configs/config1.3.txt"
      ],
      "execution_count": 27,
      "outputs": [
        {
          "output_type": "stream",
          "text": [
            "Loading configuration : configs/config1.3.txt\n",
            "Reading file\n",
            "Created Node 0: 1 interf.s, ctr code: cnss.lib.EndSystemControl app code: assignment1.FilesSender\n",
            "Created Node 1: 1 interf.s, ctr code: cnss.lib.EndSystemControl app code: assignment1.FilesReceiver\n",
            "Created Node 2: 2 interf.s, ctr code: cnss.lib.FloodingSwitch app code: cnss.lib.EmptyApp\n",
            "Created Node 3: 2 interf.s, ctr code: cnss.lib.FloodingSwitch app code: cnss.lib.EmptyApp\n",
            "Added link to node 0 - Link (Node1:0 I1:0)<-->(Node2:2 I2:0) bwd: 2000000 bps lat: 20 ms error %: 0.0 jit %: 0.0 up\n",
            "Added link to node 2 - Link (Node1:0 I1:0)<-->(Node2:2 I2:0) bwd: 2000000 bps lat: 20 ms error %: 0.0 jit %: 0.0 up\n",
            "Added link to node 2 - Link (Node1:2 I1:1)<-->(Node2:3 I2:0) bwd: 2000000 bps lat: 20 ms error %: 0.0 jit %: 0.0 up\n",
            "Added link to node 3 - Link (Node1:2 I1:1)<-->(Node2:3 I2:0) bwd: 2000000 bps lat: 20 ms error %: 0.0 jit %: 0.0 up\n",
            "Added link to node 3 - Link (Node1:3 I1:1)<-->(Node2:1 I2:0) bwd: 2000000 bps lat: 20 ms error %: 0.0 jit %: 0.0 up\n",
            "Added link to node 1 - Link (Node1:3 I1:1)<-->(Node2:1 I2:0) bwd: 2000000 bps lat: 20 ms error %: 0.0 jit %: 0.0 up\n",
            "\n",
            "simulation starts - first processing step with clock = 0\n",
            "\n",
            "log: Files-sender time 0 node 0 starting\n",
            "log: Files-sender time 0 node 0 sent packet of size 10020 n. 1\n",
            "log: Files-sender time 0 node 0 sent packet of size 10020 n. 2\n",
            "log: Files-sender time 0 node 0 sent packet of size 10020 n. 3\n",
            "log: Files-sender time 0 node 0 sent packet of size 10020 n. 4\n",
            "log: Files-sender time 0 node 0 sent packet of size 10020 n. 5\n",
            "log: Files-sender time 0 node 0 sent packet of size 10020 n. 6\n",
            "log: Files-sender time 0 node 0 sent packet of size 10020 n. 7\n",
            "log: Files-sender time 0 node 0 sent packet of size 10020 n. 8\n",
            "log: Files-sender time 0 node 0 sent packet of size 10020 n. 9\n",
            "log: Files-sender time 0 node 0 sent packet of size 10020 n. 10\n",
            "log: Files-receiver time 0 node 1 starting\n",
            "log: Files-receiver time 180 node 1 got: src 0 dst 1 type DATA ttl 30 seq 1 size 10020 n. 1\n",
            "log: Files-receiver time 220 node 1 got: src 0 dst 1 type DATA ttl 30 seq 2 size 10020 n. 2\n",
            "log: Files-receiver time 260 node 1 got: src 0 dst 1 type DATA ttl 30 seq 3 size 10020 n. 3\n",
            "log: Files-receiver time 300 node 1 got: src 0 dst 1 type DATA ttl 30 seq 4 size 10020 n. 4\n",
            "log: Files-receiver time 340 node 1 got: src 0 dst 1 type DATA ttl 30 seq 5 size 10020 n. 5\n",
            "log: Files-receiver time 380 node 1 got: src 0 dst 1 type DATA ttl 30 seq 6 size 10020 n. 6\n",
            "log: Files-receiver time 420 node 1 got: src 0 dst 1 type DATA ttl 30 seq 7 size 10020 n. 7\n",
            "log: Files-receiver time 460 node 1 got: src 0 dst 1 type DATA ttl 30 seq 8 size 10020 n. 8\n",
            "log: Files-receiver time 500 node 1 got: src 0 dst 1 type DATA ttl 30 seq 9 size 10020 n. 9\n",
            "log: Files-receiver time 540 node 1 got: src 0 dst 1 type DATA ttl 30 seq 10 size 10020 n. 10\n",
            "log: Files-sender time 60000 node 0 sent packet of size: 100200 n. 11\n",
            "log: Files-receiver time 61260 node 1 got: src 0 dst 1 type DATA ttl 30 seq 11 size 100220 n. 11\n",
            "\n",
            "simulation ended - last processing step with clock = 61260\n",
            "\n"
          ],
          "name": "stdout"
        }
      ]
    },
    {
      "cell_type": "markdown",
      "metadata": {
        "id": "EGrrxPQi6kwF"
      },
      "source": [
        "Now things become more interesting, since the times taken by the two transfers took are different. \n",
        "\n",
        "It is worth noting that in the Internet, as well as in almost all networks, it is not possible to send packets as big as the big packet used to send the file in one only packet. NCSS makes no restrictions on the size of packets because it is a simulation tool. Nevertheless, the experiments also show that it is not very interesting to use huge sized packets (this is a relative concept related to the bandwidth of links) as we will see next.\n",
        "\n",
        "In fact, in experiment 2, when the file is sent in 10 packets, it takes 480 ms to get to the destination, instead of 420 in the first experiment, while it takes 540 ms in the third experiment. \n",
        "\n",
        "You should repeat the analytical analysis required to understand why these results are obtained. From experiment 1 to 2, the transfer time increased 60 ms, while in experiment 3 it increased 60 ms over experiment 2 and 120 ms over experiment 1.\n",
        "\n",
        "The increase from one experiment to the following one is related to the extra transmission time introduced by the extra switch and link, added to the latency of the extra link. You can use the figure below to better understand the reasons that explain it.\n",
        "\n",
        "![](https://github.com/jlegatheaux/RC2020-assignments/blob/master/assignment-1/figs/storeForward1.png?raw=1)\n",
        "\n",
        "As it is explained in the book, packet switched networks employ switches that use the store & forward principle, which states that packets must be fully received by a switch before being forwarded to the next one (or to an end-system). While the switch can send and receive several packets in parallel over different links, each packet can only be forwarded after being fully received, analysed and processed. It is only then that the outgoing interface in its way to the destination is choosen and its transmission may proceed. As such, if we replace one link by several links interconnected by switches, even if the sum of the latencies of the new links is equal to the latency of the replaced one, each link introduces an extra transmission time to the packet end-to-end transfer time.\n",
        "\n",
        "If we look now at the results of the three experiments in what concerns the transfer of the file in one only big packet, more lessons can be learned. \n",
        "\n",
        "In experiment 1, the transfer using one only packet took 420 ms to complete, the same when several packets were used. However in experiment 2 the same transfer takes 840 ms and 1260 ms in experiment 3. From one experiment to the following, the transfer time increased 420 ms. That increase is also due to the same reason, a transmission time plus the latency of the extra switch and link introduced eah time. However, now, the transmission time of the big packet takes 400 ms instead of the 40 ms that each \"small\" packet took. \n",
        "\n",
        "The figure below illustrates quite clearly the difference between experiments 1 and 2. \n",
        "\n",
        "![](https://github.com/jlegatheaux/RC2020-assignments/blob/master/assignment-1/figs/storeForward2.png?raw=1)\n",
        "\n",
        "The lesson is, if links have bit rates that introduce significant transmission times, increasing the size of packets may introduce unexpected increases in transit time.\n",
        "\n",
        "Before proceeding you should review the 3 experiments and take a sheet of paper and redo the calculations in the three cases to compare your computations with the results shown by the simulations. You should be convinced at the end, that computing transfer times in a network where no packets are lost, and there is no competing traffic (other sources sending packets that cross the same links that your packets also cross) is not difficult at all.\n",
        "\n",
        "### Further experiments\n",
        "\n",
        "You can also repeat the same experiments with bigger files (more packets) or with links with higher bit rates. If you increase the bandwithd of links from 2 Mbps, to, for example, 100 Mbps or to 1000 Mbps (1 Gbps), the transmission times become very small. For example, sending 80,000 bits at 1 Mbps requires 80 ms, while sending the same packet at 1 Gbps only requires 0,08 ms or 80 micro seconds. As the bandwidth increases, the dominant factor in end-to-end transit time is links latency.\n",
        "\n",
        "**Warning:** when changing a configuration file, you should pay attention to the fact that you may not make mistakes or otherwise NCSS crashes miserably. In particular, each token in the file must be separated from the next one by exactly one space character and you must not enter lines with only spaces. In a next version we will improve the configuration file parsing habilities of CNSS.\n",
        "\n",
        "A last interesting observation concerning CNSS is related to the fact that these three configuration files have no stop parameter. Sometimes it is not required to introduce one, since CNSS recognizes that no more events can be fired in the simulation and stops its processing."
      ]
    },
    {
      "cell_type": "markdown",
      "metadata": {
        "id": "VytxYIY_-waL"
      },
      "source": [
        "# Data Transmission with Flow Control\n",
        "\n",
        "In real networks several problems may arise, like packets being lost or delivered out of order to receiver nodes. The previous experiments solutions cannot deal with these real world problems and will fail, since the data sent and received may differ. In assignment 2 we will study methods to deal with these characetristics of real networks.\n",
        "\n",
        "Additionally, the previous shown data transfer solutions also cannot deal with another problem, related, not with the network, but with the characteristics of real world nodes, namely, the fact that their processing capacities are different. Therefore, a very powerful node can send data at a rate that a less powerful receiver one is not able to process timely. If that is the case, packets may also be lost because the receiver cannot process all the packets that it receives, and the only solution is to discard some of them. The final result is the same as if these discarded packets were not delivered by the network.\n",
        "\n",
        "Solutions to this problem are know as ***flow adaptation*** or ***flow control*** solutions, that provide methods to adapt the sending rate of senders to the processing rate of receivers.\n",
        "\n",
        "There exists another problem of rate adaptation related with the fact that an high capacity sender can saturate a network not able to deliver packets sent at a too high rate. For example, at the same time, other nodes are also sending many packets that cross the same links as our high performance sender. In that case, it is also necessary to adapt the rate of the sending nodes to the capacity available inside the network. The solution to this probleam is called ***network congestion control***.\n",
        "\n",
        "Flow control methods and network congestion control methods are different, but both share some common characteristics. In fact, both may rely on signals sent by receivers (or the network) to senders, telling them to stop, refraining sending packets, or to continue sending them. Both methods are discussed in several chapters of the book, namely chapters 6, 7 and 8. By now you do not need to study these chapters to understand this assignment, but you will need them for the next assigments.\n",
        "\n",
        "\n",
        "## The Stop and Wait Flow Control\n",
        "\n",
        "The simplest method of flow control is know as \"Stop & Wait\" flow control or S&W for short. S&W is also the name of the protocol that relies on this method. It is a very simple protocol. Each time the sender sends a packet, it will enter a waiting phase, up to reception of a signal from the receiver meaning that it received the packet and it is ready for the next one. These small signal packets are known as acknowledgement packets or ACK packets.\n",
        "\n",
        "The application algorithm of a receiver node using this protocol is available in file [FilesReceiverAck.java](https://github.com/jlegatheaux/RC2020-assignments/blob/master/assignment-1/FilesReceiverAck.java). Again, the only upcall worth discussion is the `on_receive()` one, see below. It logs the reception of the packet and answers the sender sending it an ACK packet with the number of received packets up to now (including this one).\n"
      ]
    },
    {
      "cell_type": "code",
      "metadata": {
        "id": "qRmMyrr7AJY7",
        "outputId": "f996cbb6-fdd8-4683-b6e0-f57b2408a573",
        "colab": {
          "base_uri": "https://localhost:8080/",
          "height": 34
        }
      },
      "source": [
        "%%writefile assignment1/FilesReceiverAck.java\n",
        "\n",
        "package assignment1;\n",
        "import cnss.simulator.*;\n",
        "import cnss.lib.*;\n",
        "\n",
        "public class FilesReceiverAck extends AbstractApplicationAlgorithm {\n",
        "\t\n",
        "\tint totReceived = 0;\n",
        "\n",
        "  public FilesReceiverAck() {\n",
        "      super(true, \"files-receiver\");\n",
        "  }\n",
        "\n",
        "  public int initialise(int now, int node_id, Node self, String[] args) {\n",
        "\t  super.initialise(now, node_id, self, args);\n",
        "\t  log(0, \"starting\");\n",
        "\t  return 0;\n",
        "\t}\n",
        "  \n",
        "  public void on_receive( int now, DataPacket p ) {\n",
        "\t  totReceived++;\n",
        "\t  log(now, \"got: \" + p + \" n: \"+(int)(p.getPayload()[0]));\n",
        "      self.send( self.createDataPacket( p.getSource(), (\"ack \"+totReceived).getBytes() ) );\n",
        "  }\n",
        "  \n",
        "\tpublic void showState(int now) {\n",
        "\t\tSystem.out.println(name + \" received \"+totReceived+\" packets with blocks\");\n",
        "\t}\n",
        "} "
      ],
      "execution_count": 29,
      "outputs": [
        {
          "output_type": "stream",
          "text": [
            "Overwriting assignment1/FilesReceiverAck.java\n"
          ],
          "name": "stdout"
        }
      ]
    },
    {
      "cell_type": "markdown",
      "metadata": {
        "id": "HJW3c3wYA1n6"
      },
      "source": [
        "The code of the sender node is a litle bit more elaborated. It is contained in file [NaifSwSender.java](https://github.com/jlegatheaux/RC2020-assignments/blob/master/assignment-1/NaifSwSender.java) and it is shown next. We call this solution and the next ones *Naif* since they are not acceptable for real world scenarios where networks may loose packets."
      ]
    },
    {
      "cell_type": "code",
      "metadata": {
        "id": "_qFGxa_YBa2M",
        "outputId": "269a1aea-300f-4f98-8149-d719b531c4de",
        "colab": {
          "base_uri": "https://localhost:8080/",
          "height": 34
        }
      },
      "source": [
        "%%writefile assignment1/NaifSwSender.java\n",
        "\n",
        "package assignment1;\n",
        "import cnss.lib.*;\n",
        "import cnss.simulator.*;\n",
        "\n",
        "public class NaifSwSender extends AbstractApplicationAlgorithm {\n",
        "\n",
        "\tpublic static int BLOCKSIZE = 10000; // 10000*8 = 80000 bits\n",
        "\tpublic static int TOTAL_PACKETSIZE = BLOCKSIZE+Packet.HEADERSIZE; // 10000*8 = 80160 bits\n",
        "\n",
        "\tpublic NaifSwSender() {\n",
        "\t\tsuper(true, \"naif-sw-sender\");\n",
        "\t}\n",
        "\n",
        "\tint totSent;\n",
        "\tint totalBlocks;\n",
        "\tint startTime;\n",
        "\tint transferTime;\n",
        "\tint totBytesTransferred;\n",
        "\tint e2eTransferRate;\n",
        "\n",
        "\tpublic int initialise(int now, int node_id, Node self, String[] args) {\n",
        "\t\tsuper.initialise(now, node_id, self, args);\n",
        "\t\tif ( args.length != 1 ) {\n",
        "\t\t\tlog(now, \"ERROR: files-sender: missing argument totalBlocks \"+now+\"\\n\\n\");\n",
        "\t\t\tSystem.exit(-1);\n",
        "\t\t}\n",
        "\n",
        "\t\ttotalBlocks = Integer.parseInt(args[0]);\n",
        "\t\tlog(now, \"starting\");\n",
        "\t\tstartTime = now;\n",
        "\t\ttotSent = 1;\n",
        "\t\tbyte[] pl = new byte[BLOCKSIZE];\n",
        "\t\tpl[0]= (byte) ( totSent & 0xff ); \n",
        "\t\tself.send( self.createDataPacket( 1, pl ));\n",
        "\t\tlog(now, \"sent packet of size \"+TOTAL_PACKETSIZE+\" n. \"+totSent);\t\n",
        "\t\treturn 0;\t\n",
        "\t}\n",
        "\n",
        "\tpublic void on_receive(int now, DataPacket p) {\n",
        "\t\tlog(now, \"ack packet: \"+p+\" pl: \"+new String(p.getPayload())+\" n. \"+totSent);\n",
        "\t\tif (totSent <= totalBlocks - 1) {\n",
        "\t\t\ttotSent++;\n",
        "\t\t\tbyte[] pl = new byte[BLOCKSIZE];\n",
        "\t\t\tpl[0]= (byte) ( totSent & 0xff ); \n",
        "\t\t\tself.send( self.createDataPacket( 1, pl ));\n",
        "\t\t\tlog(now, \"sent packet of size \"+TOTAL_PACKETSIZE+\" n. \"+totSent);\t\t\n",
        "\t\t} else if (totSent == totalBlocks ) {\t\t\n",
        "\t\t\ttransferTime = now - startTime;\n",
        "\t\t\ttotBytesTransferred = TOTAL_PACKETSIZE*totalBlocks;\n",
        "\t\t\tfloat transferTimeInSeconds = (float)transferTime / 1000;\n",
        "\t\t\te2eTransferRate = (int) (totBytesTransferred*8 / transferTimeInSeconds);\n",
        "\t\t\tlog(now, totBytesTransferred+\" bytes transferred in \"+transferTime+\" ms at \"+e2eTransferRate+\" bps e2e rate\");\n",
        "\t\t}\n",
        "\t}\n",
        "\n",
        "\tpublic void showState(int now) {\n",
        "\t\tSystem.out.println(name + \" sent \" + totSent + \" packets with blocks\");\n",
        "\t\tSystem.out.println(name+\" \"+totBytesTransferred+\" bytes transferred in \"\n",
        "\t\t\t\t+transferTime+\" ms at \"+e2eTransferRate+\" bps e2e rate\");\n",
        "\t}\n",
        "}"
      ],
      "execution_count": 30,
      "outputs": [
        {
          "output_type": "stream",
          "text": [
            "Writing assignment1/NaifSwSender.java\n"
          ],
          "name": "stdout"
        }
      ]
    },
    {
      "cell_type": "markdown",
      "metadata": {
        "id": "J26AhjjACBql"
      },
      "source": [
        "The sender, after the initialisation of its variables, sends the first packet. Then, each time it receives a packet from the receiver (an ACK), it proceeds to the next packet (while not all packets have been sent and acked). When the last ACK is received, it computes the transfer rate and prints it. For the sake of increasing clarity of the logs (nothing more) it puts in the first byte of the sent packet its order (thus, if more than 254 packets are sent, this number will turn to 0 again).\n",
        "\n",
        "All the following experiments are performed by using the network configuration below, which is already known.\n",
        "\n",
        "![](https://github.com/jlegatheaux/RC2020-assignments/blob/master/assignment-1/figs/config1.4-.png?raw=1)"
      ]
    },
    {
      "cell_type": "markdown",
      "metadata": {
        "id": "6HtkJGF_EVNF"
      },
      "source": [
        "### Experiment 4\n",
        "\n",
        "It is now interesting to experiment the transfer of the file with this new solution. That is done using configuration [config.1.4.txt](https://github.com/jlegatheaux/RC2020-assignments/blob/master/assignment-1/configs/config1.4.txt), as follows:"
      ]
    },
    {
      "cell_type": "code",
      "metadata": {
        "id": "iiphY4bSEWHk",
        "outputId": "b1866b38-8b5b-4424-bda3-329ab55a427f",
        "colab": {
          "base_uri": "https://localhost:8080/",
          "height": 34
        }
      },
      "source": [
        "%%writefile configs/config1.4.txt\n",
        "# A network with a sender node and a receiver node interconnected\n",
        "# by two switches. All links have 1 Mbps bandwidth and 10 ms latency\n",
        "\n",
        "# uncomment if you want to see control algorithms traces\n",
        "# parameter trace   \n",
        "\n",
        "Node 0 1 cnss.lib.EndSystemControl assignment1.NaifSwSender 10\n",
        "Node 1 1 cnss.lib.EndSystemControl assignment1.FilesReceiverAck\n",
        "Node 2 2 cnss.lib.FloodingSwitch cnss.lib.EmptyApp\n",
        "Node 3 2 cnss.lib.FloodingSwitch cnss.lib.EmptyApp\n",
        "\n",
        "Link 0.0 2.0 2000000 20 0.0 0.0\n",
        "Link 2.1 3.0 2000000 20 0.0 0.0\n",
        "Link 3.1 1.0 2000000 20 0.0 0.0\n",
        "\n",
        "dumpAppState 30000 all"
      ],
      "execution_count": 46,
      "outputs": [
        {
          "output_type": "stream",
          "text": [
            "Overwriting configs/config1.4.txt\n"
          ],
          "name": "stdout"
        }
      ]
    },
    {
      "cell_type": "code",
      "metadata": {
        "id": "lexMDWloDYsn",
        "outputId": "8e1aee9c-cff0-495c-8fbd-e4c492eba13c",
        "colab": {
          "base_uri": "https://localhost:8080/",
          "height": 935
        }
      },
      "source": [
        "%%bash \n",
        "javac -cp .:cnss-classes assignment1/*.java\n",
        "java -cp .:cnss-classes cnss.simulator.Simulator configs/config1.4.txt"
      ],
      "execution_count": 33,
      "outputs": [
        {
          "output_type": "stream",
          "text": [
            "Loading configuration : configs/config1.4.txt\n",
            "Reading file\n",
            "Created Node 0: 1 interf.s, ctr code: cnss.lib.EndSystemControl app code: assignment1.NaifSwSender\n",
            "Created Node 1: 1 interf.s, ctr code: cnss.lib.EndSystemControl app code: assignment1.FilesReceiverAck\n",
            "Created Node 2: 2 interf.s, ctr code: cnss.lib.FloodingSwitch app code: cnss.lib.EmptyApp\n",
            "Created Node 3: 2 interf.s, ctr code: cnss.lib.FloodingSwitch app code: cnss.lib.EmptyApp\n",
            "Added link to node 0 - Link (Node1:0 I1:0)<-->(Node2:2 I2:0) bwd: 2000000 bps lat: 20 ms error %: 0.0 jit %: 0.0 up\n",
            "Added link to node 2 - Link (Node1:0 I1:0)<-->(Node2:2 I2:0) bwd: 2000000 bps lat: 20 ms error %: 0.0 jit %: 0.0 up\n",
            "Added link to node 2 - Link (Node1:2 I1:1)<-->(Node2:3 I2:0) bwd: 2000000 bps lat: 20 ms error %: 0.0 jit %: 0.0 up\n",
            "Added link to node 3 - Link (Node1:2 I1:1)<-->(Node2:3 I2:0) bwd: 2000000 bps lat: 20 ms error %: 0.0 jit %: 0.0 up\n",
            "Added link to node 3 - Link (Node1:3 I1:1)<-->(Node2:1 I2:0) bwd: 2000000 bps lat: 20 ms error %: 0.0 jit %: 0.0 up\n",
            "Added link to node 1 - Link (Node1:3 I1:1)<-->(Node2:1 I2:0) bwd: 2000000 bps lat: 20 ms error %: 0.0 jit %: 0.0 up\n",
            "\n",
            "simulation starts - first processing step with clock = 0\n",
            "\n",
            "log: naif-sw-sender time 0 node 0 starting\n",
            "log: naif-sw-sender time 0 node 0 sent packet of size 10020 n. 1\n",
            "log: files-receiver time 0 node 1 starting\n",
            "log: files-receiver time 180 node 1 got: src 0 dst 1 type DATA ttl 30 seq 1 size 10020 n: 1\n",
            "log: naif-sw-sender time 240 node 0 ack packet: src 1 dst 0 type DATA ttl 30 seq 1 size 25 pl: ack 1 n. 1\n",
            "log: naif-sw-sender time 240 node 0 sent packet of size 10020 n. 2\n",
            "log: files-receiver time 420 node 1 got: src 0 dst 1 type DATA ttl 30 seq 2 size 10020 n: 2\n",
            "log: naif-sw-sender time 480 node 0 ack packet: src 1 dst 0 type DATA ttl 30 seq 2 size 25 pl: ack 2 n. 2\n",
            "log: naif-sw-sender time 480 node 0 sent packet of size 10020 n. 3\n",
            "log: files-receiver time 660 node 1 got: src 0 dst 1 type DATA ttl 30 seq 3 size 10020 n: 3\n",
            "log: naif-sw-sender time 720 node 0 ack packet: src 1 dst 0 type DATA ttl 30 seq 3 size 25 pl: ack 3 n. 3\n",
            "log: naif-sw-sender time 720 node 0 sent packet of size 10020 n. 4\n",
            "log: files-receiver time 900 node 1 got: src 0 dst 1 type DATA ttl 30 seq 4 size 10020 n: 4\n",
            "log: naif-sw-sender time 960 node 0 ack packet: src 1 dst 0 type DATA ttl 30 seq 4 size 25 pl: ack 4 n. 4\n",
            "log: naif-sw-sender time 960 node 0 sent packet of size 10020 n. 5\n",
            "log: files-receiver time 1140 node 1 got: src 0 dst 1 type DATA ttl 30 seq 5 size 10020 n: 5\n",
            "log: naif-sw-sender time 1200 node 0 ack packet: src 1 dst 0 type DATA ttl 30 seq 5 size 25 pl: ack 5 n. 5\n",
            "log: naif-sw-sender time 1200 node 0 sent packet of size 10020 n. 6\n",
            "log: files-receiver time 1380 node 1 got: src 0 dst 1 type DATA ttl 30 seq 6 size 10020 n: 6\n",
            "log: naif-sw-sender time 1440 node 0 ack packet: src 1 dst 0 type DATA ttl 30 seq 6 size 25 pl: ack 6 n. 6\n",
            "log: naif-sw-sender time 1440 node 0 sent packet of size 10020 n. 7\n",
            "log: files-receiver time 1620 node 1 got: src 0 dst 1 type DATA ttl 30 seq 7 size 10020 n: 7\n",
            "log: naif-sw-sender time 1680 node 0 ack packet: src 1 dst 0 type DATA ttl 30 seq 7 size 25 pl: ack 7 n. 7\n",
            "log: naif-sw-sender time 1680 node 0 sent packet of size 10020 n. 8\n",
            "log: files-receiver time 1860 node 1 got: src 0 dst 1 type DATA ttl 30 seq 8 size 10020 n: 8\n",
            "log: naif-sw-sender time 1920 node 0 ack packet: src 1 dst 0 type DATA ttl 30 seq 8 size 25 pl: ack 8 n. 8\n",
            "log: naif-sw-sender time 1920 node 0 sent packet of size 10020 n. 9\n",
            "log: files-receiver time 2100 node 1 got: src 0 dst 1 type DATA ttl 30 seq 9 size 10020 n: 9\n",
            "log: naif-sw-sender time 2160 node 0 ack packet: src 1 dst 0 type DATA ttl 30 seq 9 size 25 pl: ack 9 n. 9\n",
            "log: naif-sw-sender time 2160 node 0 sent packet of size 10020 n. 10\n",
            "log: files-receiver time 2340 node 1 got: src 0 dst 1 type DATA ttl 30 seq 10 size 10020 n: 10\n",
            "log: naif-sw-sender time 2400 node 0 ack packet: src 1 dst 0 type DATA ttl 30 seq 10 size 26 pl: ack 10 n. 10\n",
            "log: naif-sw-sender time 2400 node 0 100200 bytes transferred in 2400 ms at 334000 bps e2e rate\n",
            "naif-sw-sender sent 10 packets with blocks\n",
            "naif-sw-sender 100200 bytes transferred in 2400 ms at 334000 bps e2e rate\n",
            "files-receiver received 10 packets with blocks\n",
            "\n",
            "simulation ended - last processing step with clock = 30000\n",
            "\n"
          ],
          "name": "stdout"
        }
      ]
    },
    {
      "cell_type": "markdown",
      "metadata": {
        "id": "_bbo8nUgDgh6"
      },
      "source": [
        "The result of the experiment shows that the transfer of the file took 2400 ms, much longer than in previous experiments, at an end-to-end rate of 334,000 bits per second or around 1/3 of the links bandwidth.\n",
        "\n",
        "It is interesting to explain these results while also computing them analytically. You should also compute what is called the ***usage ratio*** of the links. If you have doubts, chapter 6 of the book may help you.\n",
        "\n",
        "\n",
        "### Experiment 5\n",
        "\n",
        "In this experiment, a file with a length of 100 packets, instead of 10, is transferred. The result, as expected, shows an identical end-to-end transfer rate. This experiment will be used as a reference for the next experiments.\n"
      ]
    },
    {
      "cell_type": "code",
      "metadata": {
        "id": "jOjZbw6sGOEb",
        "outputId": "9e1e0c5d-2a10-4096-b834-23f644e65bf4",
        "colab": {
          "base_uri": "https://localhost:8080/",
          "height": 34
        }
      },
      "source": [
        "%%writefile configs/config1.5.txt\n",
        "# A network with a sender node and a receiver node interconnected\n",
        "# by two switches. All links have 1 Mbps bandwidth and 10 ms latency\n",
        "\n",
        "# uncomment if you want to see control algorithms traces\n",
        "# parameter trace   \n",
        "\n",
        "Node 0 1 cnss.lib.EndSystemControl assignment1.NaifSwSender 100\n",
        "Node 1 1 cnss.lib.EndSystemControl assignment1.FilesReceiverAck\n",
        "Node 2 2 cnss.lib.FloodingSwitch cnss.lib.EmptyApp\n",
        "Node 3 2 cnss.lib.FloodingSwitch cnss.lib.EmptyApp\n",
        "\n",
        "Link 0.0 2.0 2000000 20 0.0 0.0\n",
        "Link 2.1 3.0 2000000 20 0.0 0.0\n",
        "Link 3.1 1.0 2000000 20 0.0 0.0\n",
        "\n",
        "dumpAppState 30000 all"
      ],
      "execution_count": 35,
      "outputs": [
        {
          "output_type": "stream",
          "text": [
            "Overwriting configs/config1.5.txt\n"
          ],
          "name": "stdout"
        }
      ]
    },
    {
      "cell_type": "code",
      "metadata": {
        "id": "vcEySqMIEKBI",
        "outputId": "bf662c8d-c96b-439d-8f68-d98718b40e97",
        "colab": {
          "base_uri": "https://localhost:8080/",
          "height": 1000
        }
      },
      "source": [
        "%%bash\n",
        "\n",
        "java -cp .:cnss-classes cnss.simulator.Simulator configs/config1.5.txt"
      ],
      "execution_count": 36,
      "outputs": [
        {
          "output_type": "stream",
          "text": [
            "Loading configuration : configs/config1.5.txt\n",
            "Reading file\n",
            "Created Node 0: 1 interf.s, ctr code: cnss.lib.EndSystemControl app code: assignment1.NaifSwSender\n",
            "Created Node 1: 1 interf.s, ctr code: cnss.lib.EndSystemControl app code: assignment1.FilesReceiverAck\n",
            "Created Node 2: 2 interf.s, ctr code: cnss.lib.FloodingSwitch app code: cnss.lib.EmptyApp\n",
            "Created Node 3: 2 interf.s, ctr code: cnss.lib.FloodingSwitch app code: cnss.lib.EmptyApp\n",
            "Added link to node 0 - Link (Node1:0 I1:0)<-->(Node2:2 I2:0) bwd: 2000000 bps lat: 20 ms error %: 0.0 jit %: 0.0 up\n",
            "Added link to node 2 - Link (Node1:0 I1:0)<-->(Node2:2 I2:0) bwd: 2000000 bps lat: 20 ms error %: 0.0 jit %: 0.0 up\n",
            "Added link to node 2 - Link (Node1:2 I1:1)<-->(Node2:3 I2:0) bwd: 2000000 bps lat: 20 ms error %: 0.0 jit %: 0.0 up\n",
            "Added link to node 3 - Link (Node1:2 I1:1)<-->(Node2:3 I2:0) bwd: 2000000 bps lat: 20 ms error %: 0.0 jit %: 0.0 up\n",
            "Added link to node 3 - Link (Node1:3 I1:1)<-->(Node2:1 I2:0) bwd: 2000000 bps lat: 20 ms error %: 0.0 jit %: 0.0 up\n",
            "Added link to node 1 - Link (Node1:3 I1:1)<-->(Node2:1 I2:0) bwd: 2000000 bps lat: 20 ms error %: 0.0 jit %: 0.0 up\n",
            "\n",
            "simulation starts - first processing step with clock = 0\n",
            "\n",
            "log: naif-sw-sender time 0 node 0 starting\n",
            "log: naif-sw-sender time 0 node 0 sent packet of size 10020 n. 1\n",
            "log: files-receiver time 0 node 1 starting\n",
            "log: files-receiver time 180 node 1 got: src 0 dst 1 type DATA ttl 30 seq 1 size 10020 n: 1\n",
            "log: naif-sw-sender time 240 node 0 ack packet: src 1 dst 0 type DATA ttl 30 seq 1 size 25 pl: ack 1 n. 1\n",
            "log: naif-sw-sender time 240 node 0 sent packet of size 10020 n. 2\n",
            "log: files-receiver time 420 node 1 got: src 0 dst 1 type DATA ttl 30 seq 2 size 10020 n: 2\n",
            "log: naif-sw-sender time 480 node 0 ack packet: src 1 dst 0 type DATA ttl 30 seq 2 size 25 pl: ack 2 n. 2\n",
            "log: naif-sw-sender time 480 node 0 sent packet of size 10020 n. 3\n",
            "log: files-receiver time 660 node 1 got: src 0 dst 1 type DATA ttl 30 seq 3 size 10020 n: 3\n",
            "log: naif-sw-sender time 720 node 0 ack packet: src 1 dst 0 type DATA ttl 30 seq 3 size 25 pl: ack 3 n. 3\n",
            "log: naif-sw-sender time 720 node 0 sent packet of size 10020 n. 4\n",
            "log: files-receiver time 900 node 1 got: src 0 dst 1 type DATA ttl 30 seq 4 size 10020 n: 4\n",
            "log: naif-sw-sender time 960 node 0 ack packet: src 1 dst 0 type DATA ttl 30 seq 4 size 25 pl: ack 4 n. 4\n",
            "log: naif-sw-sender time 960 node 0 sent packet of size 10020 n. 5\n",
            "log: files-receiver time 1140 node 1 got: src 0 dst 1 type DATA ttl 30 seq 5 size 10020 n: 5\n",
            "log: naif-sw-sender time 1200 node 0 ack packet: src 1 dst 0 type DATA ttl 30 seq 5 size 25 pl: ack 5 n. 5\n",
            "log: naif-sw-sender time 1200 node 0 sent packet of size 10020 n. 6\n",
            "log: files-receiver time 1380 node 1 got: src 0 dst 1 type DATA ttl 30 seq 6 size 10020 n: 6\n",
            "log: naif-sw-sender time 1440 node 0 ack packet: src 1 dst 0 type DATA ttl 30 seq 6 size 25 pl: ack 6 n. 6\n",
            "log: naif-sw-sender time 1440 node 0 sent packet of size 10020 n. 7\n",
            "log: files-receiver time 1620 node 1 got: src 0 dst 1 type DATA ttl 30 seq 7 size 10020 n: 7\n",
            "log: naif-sw-sender time 1680 node 0 ack packet: src 1 dst 0 type DATA ttl 30 seq 7 size 25 pl: ack 7 n. 7\n",
            "log: naif-sw-sender time 1680 node 0 sent packet of size 10020 n. 8\n",
            "log: files-receiver time 1860 node 1 got: src 0 dst 1 type DATA ttl 30 seq 8 size 10020 n: 8\n",
            "log: naif-sw-sender time 1920 node 0 ack packet: src 1 dst 0 type DATA ttl 30 seq 8 size 25 pl: ack 8 n. 8\n",
            "log: naif-sw-sender time 1920 node 0 sent packet of size 10020 n. 9\n",
            "log: files-receiver time 2100 node 1 got: src 0 dst 1 type DATA ttl 30 seq 9 size 10020 n: 9\n",
            "log: naif-sw-sender time 2160 node 0 ack packet: src 1 dst 0 type DATA ttl 30 seq 9 size 25 pl: ack 9 n. 9\n",
            "log: naif-sw-sender time 2160 node 0 sent packet of size 10020 n. 10\n",
            "log: files-receiver time 2340 node 1 got: src 0 dst 1 type DATA ttl 30 seq 10 size 10020 n: 10\n",
            "log: naif-sw-sender time 2400 node 0 ack packet: src 1 dst 0 type DATA ttl 30 seq 10 size 26 pl: ack 10 n. 10\n",
            "log: naif-sw-sender time 2400 node 0 sent packet of size 10020 n. 11\n",
            "log: files-receiver time 2580 node 1 got: src 0 dst 1 type DATA ttl 30 seq 11 size 10020 n: 11\n",
            "log: naif-sw-sender time 2640 node 0 ack packet: src 1 dst 0 type DATA ttl 30 seq 11 size 26 pl: ack 11 n. 11\n",
            "log: naif-sw-sender time 2640 node 0 sent packet of size 10020 n. 12\n",
            "log: files-receiver time 2820 node 1 got: src 0 dst 1 type DATA ttl 30 seq 12 size 10020 n: 12\n",
            "log: naif-sw-sender time 2880 node 0 ack packet: src 1 dst 0 type DATA ttl 30 seq 12 size 26 pl: ack 12 n. 12\n",
            "log: naif-sw-sender time 2880 node 0 sent packet of size 10020 n. 13\n",
            "log: files-receiver time 3060 node 1 got: src 0 dst 1 type DATA ttl 30 seq 13 size 10020 n: 13\n",
            "log: naif-sw-sender time 3120 node 0 ack packet: src 1 dst 0 type DATA ttl 30 seq 13 size 26 pl: ack 13 n. 13\n",
            "log: naif-sw-sender time 3120 node 0 sent packet of size 10020 n. 14\n",
            "log: files-receiver time 3300 node 1 got: src 0 dst 1 type DATA ttl 30 seq 14 size 10020 n: 14\n",
            "log: naif-sw-sender time 3360 node 0 ack packet: src 1 dst 0 type DATA ttl 30 seq 14 size 26 pl: ack 14 n. 14\n",
            "log: naif-sw-sender time 3360 node 0 sent packet of size 10020 n. 15\n",
            "log: files-receiver time 3540 node 1 got: src 0 dst 1 type DATA ttl 30 seq 15 size 10020 n: 15\n",
            "log: naif-sw-sender time 3600 node 0 ack packet: src 1 dst 0 type DATA ttl 30 seq 15 size 26 pl: ack 15 n. 15\n",
            "log: naif-sw-sender time 3600 node 0 sent packet of size 10020 n. 16\n",
            "log: files-receiver time 3780 node 1 got: src 0 dst 1 type DATA ttl 30 seq 16 size 10020 n: 16\n",
            "log: naif-sw-sender time 3840 node 0 ack packet: src 1 dst 0 type DATA ttl 30 seq 16 size 26 pl: ack 16 n. 16\n",
            "log: naif-sw-sender time 3840 node 0 sent packet of size 10020 n. 17\n",
            "log: files-receiver time 4020 node 1 got: src 0 dst 1 type DATA ttl 30 seq 17 size 10020 n: 17\n",
            "log: naif-sw-sender time 4080 node 0 ack packet: src 1 dst 0 type DATA ttl 30 seq 17 size 26 pl: ack 17 n. 17\n",
            "log: naif-sw-sender time 4080 node 0 sent packet of size 10020 n. 18\n",
            "log: files-receiver time 4260 node 1 got: src 0 dst 1 type DATA ttl 30 seq 18 size 10020 n: 18\n",
            "log: naif-sw-sender time 4320 node 0 ack packet: src 1 dst 0 type DATA ttl 30 seq 18 size 26 pl: ack 18 n. 18\n",
            "log: naif-sw-sender time 4320 node 0 sent packet of size 10020 n. 19\n",
            "log: files-receiver time 4500 node 1 got: src 0 dst 1 type DATA ttl 30 seq 19 size 10020 n: 19\n",
            "log: naif-sw-sender time 4560 node 0 ack packet: src 1 dst 0 type DATA ttl 30 seq 19 size 26 pl: ack 19 n. 19\n",
            "log: naif-sw-sender time 4560 node 0 sent packet of size 10020 n. 20\n",
            "log: files-receiver time 4740 node 1 got: src 0 dst 1 type DATA ttl 30 seq 20 size 10020 n: 20\n",
            "log: naif-sw-sender time 4800 node 0 ack packet: src 1 dst 0 type DATA ttl 30 seq 20 size 26 pl: ack 20 n. 20\n",
            "log: naif-sw-sender time 4800 node 0 sent packet of size 10020 n. 21\n",
            "log: files-receiver time 4980 node 1 got: src 0 dst 1 type DATA ttl 30 seq 21 size 10020 n: 21\n",
            "log: naif-sw-sender time 5040 node 0 ack packet: src 1 dst 0 type DATA ttl 30 seq 21 size 26 pl: ack 21 n. 21\n",
            "log: naif-sw-sender time 5040 node 0 sent packet of size 10020 n. 22\n",
            "log: files-receiver time 5220 node 1 got: src 0 dst 1 type DATA ttl 30 seq 22 size 10020 n: 22\n",
            "log: naif-sw-sender time 5280 node 0 ack packet: src 1 dst 0 type DATA ttl 30 seq 22 size 26 pl: ack 22 n. 22\n",
            "log: naif-sw-sender time 5280 node 0 sent packet of size 10020 n. 23\n",
            "log: files-receiver time 5460 node 1 got: src 0 dst 1 type DATA ttl 30 seq 23 size 10020 n: 23\n",
            "log: naif-sw-sender time 5520 node 0 ack packet: src 1 dst 0 type DATA ttl 30 seq 23 size 26 pl: ack 23 n. 23\n",
            "log: naif-sw-sender time 5520 node 0 sent packet of size 10020 n. 24\n",
            "log: files-receiver time 5700 node 1 got: src 0 dst 1 type DATA ttl 30 seq 24 size 10020 n: 24\n",
            "log: naif-sw-sender time 5760 node 0 ack packet: src 1 dst 0 type DATA ttl 30 seq 24 size 26 pl: ack 24 n. 24\n",
            "log: naif-sw-sender time 5760 node 0 sent packet of size 10020 n. 25\n",
            "log: files-receiver time 5940 node 1 got: src 0 dst 1 type DATA ttl 30 seq 25 size 10020 n: 25\n",
            "log: naif-sw-sender time 6000 node 0 ack packet: src 1 dst 0 type DATA ttl 30 seq 25 size 26 pl: ack 25 n. 25\n",
            "log: naif-sw-sender time 6000 node 0 sent packet of size 10020 n. 26\n",
            "log: files-receiver time 6180 node 1 got: src 0 dst 1 type DATA ttl 30 seq 26 size 10020 n: 26\n",
            "log: naif-sw-sender time 6240 node 0 ack packet: src 1 dst 0 type DATA ttl 30 seq 26 size 26 pl: ack 26 n. 26\n",
            "log: naif-sw-sender time 6240 node 0 sent packet of size 10020 n. 27\n",
            "log: files-receiver time 6420 node 1 got: src 0 dst 1 type DATA ttl 30 seq 27 size 10020 n: 27\n",
            "log: naif-sw-sender time 6480 node 0 ack packet: src 1 dst 0 type DATA ttl 30 seq 27 size 26 pl: ack 27 n. 27\n",
            "log: naif-sw-sender time 6480 node 0 sent packet of size 10020 n. 28\n",
            "log: files-receiver time 6660 node 1 got: src 0 dst 1 type DATA ttl 30 seq 28 size 10020 n: 28\n",
            "log: naif-sw-sender time 6720 node 0 ack packet: src 1 dst 0 type DATA ttl 30 seq 28 size 26 pl: ack 28 n. 28\n",
            "log: naif-sw-sender time 6720 node 0 sent packet of size 10020 n. 29\n",
            "log: files-receiver time 6900 node 1 got: src 0 dst 1 type DATA ttl 30 seq 29 size 10020 n: 29\n",
            "log: naif-sw-sender time 6960 node 0 ack packet: src 1 dst 0 type DATA ttl 30 seq 29 size 26 pl: ack 29 n. 29\n",
            "log: naif-sw-sender time 6960 node 0 sent packet of size 10020 n. 30\n",
            "log: files-receiver time 7140 node 1 got: src 0 dst 1 type DATA ttl 30 seq 30 size 10020 n: 30\n",
            "log: naif-sw-sender time 7200 node 0 ack packet: src 1 dst 0 type DATA ttl 30 seq 30 size 26 pl: ack 30 n. 30\n",
            "log: naif-sw-sender time 7200 node 0 sent packet of size 10020 n. 31\n",
            "log: files-receiver time 7380 node 1 got: src 0 dst 1 type DATA ttl 30 seq 31 size 10020 n: 31\n",
            "log: naif-sw-sender time 7440 node 0 ack packet: src 1 dst 0 type DATA ttl 30 seq 31 size 26 pl: ack 31 n. 31\n",
            "log: naif-sw-sender time 7440 node 0 sent packet of size 10020 n. 32\n",
            "log: files-receiver time 7620 node 1 got: src 0 dst 1 type DATA ttl 30 seq 32 size 10020 n: 32\n",
            "log: naif-sw-sender time 7680 node 0 ack packet: src 1 dst 0 type DATA ttl 30 seq 32 size 26 pl: ack 32 n. 32\n",
            "log: naif-sw-sender time 7680 node 0 sent packet of size 10020 n. 33\n",
            "log: files-receiver time 7860 node 1 got: src 0 dst 1 type DATA ttl 30 seq 33 size 10020 n: 33\n",
            "log: naif-sw-sender time 7920 node 0 ack packet: src 1 dst 0 type DATA ttl 30 seq 33 size 26 pl: ack 33 n. 33\n",
            "log: naif-sw-sender time 7920 node 0 sent packet of size 10020 n. 34\n",
            "log: files-receiver time 8100 node 1 got: src 0 dst 1 type DATA ttl 30 seq 34 size 10020 n: 34\n",
            "log: naif-sw-sender time 8160 node 0 ack packet: src 1 dst 0 type DATA ttl 30 seq 34 size 26 pl: ack 34 n. 34\n",
            "log: naif-sw-sender time 8160 node 0 sent packet of size 10020 n. 35\n",
            "log: files-receiver time 8340 node 1 got: src 0 dst 1 type DATA ttl 30 seq 35 size 10020 n: 35\n",
            "log: naif-sw-sender time 8400 node 0 ack packet: src 1 dst 0 type DATA ttl 30 seq 35 size 26 pl: ack 35 n. 35\n",
            "log: naif-sw-sender time 8400 node 0 sent packet of size 10020 n. 36\n",
            "log: files-receiver time 8580 node 1 got: src 0 dst 1 type DATA ttl 30 seq 36 size 10020 n: 36\n",
            "log: naif-sw-sender time 8640 node 0 ack packet: src 1 dst 0 type DATA ttl 30 seq 36 size 26 pl: ack 36 n. 36\n",
            "log: naif-sw-sender time 8640 node 0 sent packet of size 10020 n. 37\n",
            "log: files-receiver time 8820 node 1 got: src 0 dst 1 type DATA ttl 30 seq 37 size 10020 n: 37\n",
            "log: naif-sw-sender time 8880 node 0 ack packet: src 1 dst 0 type DATA ttl 30 seq 37 size 26 pl: ack 37 n. 37\n",
            "log: naif-sw-sender time 8880 node 0 sent packet of size 10020 n. 38\n",
            "log: files-receiver time 9060 node 1 got: src 0 dst 1 type DATA ttl 30 seq 38 size 10020 n: 38\n",
            "log: naif-sw-sender time 9120 node 0 ack packet: src 1 dst 0 type DATA ttl 30 seq 38 size 26 pl: ack 38 n. 38\n",
            "log: naif-sw-sender time 9120 node 0 sent packet of size 10020 n. 39\n",
            "log: files-receiver time 9300 node 1 got: src 0 dst 1 type DATA ttl 30 seq 39 size 10020 n: 39\n",
            "log: naif-sw-sender time 9360 node 0 ack packet: src 1 dst 0 type DATA ttl 30 seq 39 size 26 pl: ack 39 n. 39\n",
            "log: naif-sw-sender time 9360 node 0 sent packet of size 10020 n. 40\n",
            "log: files-receiver time 9540 node 1 got: src 0 dst 1 type DATA ttl 30 seq 40 size 10020 n: 40\n",
            "log: naif-sw-sender time 9600 node 0 ack packet: src 1 dst 0 type DATA ttl 30 seq 40 size 26 pl: ack 40 n. 40\n",
            "log: naif-sw-sender time 9600 node 0 sent packet of size 10020 n. 41\n",
            "log: files-receiver time 9780 node 1 got: src 0 dst 1 type DATA ttl 30 seq 41 size 10020 n: 41\n",
            "log: naif-sw-sender time 9840 node 0 ack packet: src 1 dst 0 type DATA ttl 30 seq 41 size 26 pl: ack 41 n. 41\n",
            "log: naif-sw-sender time 9840 node 0 sent packet of size 10020 n. 42\n",
            "log: files-receiver time 10020 node 1 got: src 0 dst 1 type DATA ttl 30 seq 42 size 10020 n: 42\n",
            "log: naif-sw-sender time 10080 node 0 ack packet: src 1 dst 0 type DATA ttl 30 seq 42 size 26 pl: ack 42 n. 42\n",
            "log: naif-sw-sender time 10080 node 0 sent packet of size 10020 n. 43\n",
            "log: files-receiver time 10260 node 1 got: src 0 dst 1 type DATA ttl 30 seq 43 size 10020 n: 43\n",
            "log: naif-sw-sender time 10320 node 0 ack packet: src 1 dst 0 type DATA ttl 30 seq 43 size 26 pl: ack 43 n. 43\n",
            "log: naif-sw-sender time 10320 node 0 sent packet of size 10020 n. 44\n",
            "log: files-receiver time 10500 node 1 got: src 0 dst 1 type DATA ttl 30 seq 44 size 10020 n: 44\n",
            "log: naif-sw-sender time 10560 node 0 ack packet: src 1 dst 0 type DATA ttl 30 seq 44 size 26 pl: ack 44 n. 44\n",
            "log: naif-sw-sender time 10560 node 0 sent packet of size 10020 n. 45\n",
            "log: files-receiver time 10740 node 1 got: src 0 dst 1 type DATA ttl 30 seq 45 size 10020 n: 45\n",
            "log: naif-sw-sender time 10800 node 0 ack packet: src 1 dst 0 type DATA ttl 30 seq 45 size 26 pl: ack 45 n. 45\n",
            "log: naif-sw-sender time 10800 node 0 sent packet of size 10020 n. 46\n",
            "log: files-receiver time 10980 node 1 got: src 0 dst 1 type DATA ttl 30 seq 46 size 10020 n: 46\n",
            "log: naif-sw-sender time 11040 node 0 ack packet: src 1 dst 0 type DATA ttl 30 seq 46 size 26 pl: ack 46 n. 46\n",
            "log: naif-sw-sender time 11040 node 0 sent packet of size 10020 n. 47\n",
            "log: files-receiver time 11220 node 1 got: src 0 dst 1 type DATA ttl 30 seq 47 size 10020 n: 47\n",
            "log: naif-sw-sender time 11280 node 0 ack packet: src 1 dst 0 type DATA ttl 30 seq 47 size 26 pl: ack 47 n. 47\n",
            "log: naif-sw-sender time 11280 node 0 sent packet of size 10020 n. 48\n",
            "log: files-receiver time 11460 node 1 got: src 0 dst 1 type DATA ttl 30 seq 48 size 10020 n: 48\n",
            "log: naif-sw-sender time 11520 node 0 ack packet: src 1 dst 0 type DATA ttl 30 seq 48 size 26 pl: ack 48 n. 48\n",
            "log: naif-sw-sender time 11520 node 0 sent packet of size 10020 n. 49\n",
            "log: files-receiver time 11700 node 1 got: src 0 dst 1 type DATA ttl 30 seq 49 size 10020 n: 49\n",
            "log: naif-sw-sender time 11760 node 0 ack packet: src 1 dst 0 type DATA ttl 30 seq 49 size 26 pl: ack 49 n. 49\n",
            "log: naif-sw-sender time 11760 node 0 sent packet of size 10020 n. 50\n",
            "log: files-receiver time 11940 node 1 got: src 0 dst 1 type DATA ttl 30 seq 50 size 10020 n: 50\n",
            "log: naif-sw-sender time 12000 node 0 ack packet: src 1 dst 0 type DATA ttl 30 seq 50 size 26 pl: ack 50 n. 50\n",
            "log: naif-sw-sender time 12000 node 0 sent packet of size 10020 n. 51\n",
            "log: files-receiver time 12180 node 1 got: src 0 dst 1 type DATA ttl 30 seq 51 size 10020 n: 51\n",
            "log: naif-sw-sender time 12240 node 0 ack packet: src 1 dst 0 type DATA ttl 30 seq 51 size 26 pl: ack 51 n. 51\n",
            "log: naif-sw-sender time 12240 node 0 sent packet of size 10020 n. 52\n",
            "log: files-receiver time 12420 node 1 got: src 0 dst 1 type DATA ttl 30 seq 52 size 10020 n: 52\n",
            "log: naif-sw-sender time 12480 node 0 ack packet: src 1 dst 0 type DATA ttl 30 seq 52 size 26 pl: ack 52 n. 52\n",
            "log: naif-sw-sender time 12480 node 0 sent packet of size 10020 n. 53\n",
            "log: files-receiver time 12660 node 1 got: src 0 dst 1 type DATA ttl 30 seq 53 size 10020 n: 53\n",
            "log: naif-sw-sender time 12720 node 0 ack packet: src 1 dst 0 type DATA ttl 30 seq 53 size 26 pl: ack 53 n. 53\n",
            "log: naif-sw-sender time 12720 node 0 sent packet of size 10020 n. 54\n",
            "log: files-receiver time 12900 node 1 got: src 0 dst 1 type DATA ttl 30 seq 54 size 10020 n: 54\n",
            "log: naif-sw-sender time 12960 node 0 ack packet: src 1 dst 0 type DATA ttl 30 seq 54 size 26 pl: ack 54 n. 54\n",
            "log: naif-sw-sender time 12960 node 0 sent packet of size 10020 n. 55\n",
            "log: files-receiver time 13140 node 1 got: src 0 dst 1 type DATA ttl 30 seq 55 size 10020 n: 55\n",
            "log: naif-sw-sender time 13200 node 0 ack packet: src 1 dst 0 type DATA ttl 30 seq 55 size 26 pl: ack 55 n. 55\n",
            "log: naif-sw-sender time 13200 node 0 sent packet of size 10020 n. 56\n",
            "log: files-receiver time 13380 node 1 got: src 0 dst 1 type DATA ttl 30 seq 56 size 10020 n: 56\n",
            "log: naif-sw-sender time 13440 node 0 ack packet: src 1 dst 0 type DATA ttl 30 seq 56 size 26 pl: ack 56 n. 56\n",
            "log: naif-sw-sender time 13440 node 0 sent packet of size 10020 n. 57\n",
            "log: files-receiver time 13620 node 1 got: src 0 dst 1 type DATA ttl 30 seq 57 size 10020 n: 57\n",
            "log: naif-sw-sender time 13680 node 0 ack packet: src 1 dst 0 type DATA ttl 30 seq 57 size 26 pl: ack 57 n. 57\n",
            "log: naif-sw-sender time 13680 node 0 sent packet of size 10020 n. 58\n",
            "log: files-receiver time 13860 node 1 got: src 0 dst 1 type DATA ttl 30 seq 58 size 10020 n: 58\n",
            "log: naif-sw-sender time 13920 node 0 ack packet: src 1 dst 0 type DATA ttl 30 seq 58 size 26 pl: ack 58 n. 58\n",
            "log: naif-sw-sender time 13920 node 0 sent packet of size 10020 n. 59\n",
            "log: files-receiver time 14100 node 1 got: src 0 dst 1 type DATA ttl 30 seq 59 size 10020 n: 59\n",
            "log: naif-sw-sender time 14160 node 0 ack packet: src 1 dst 0 type DATA ttl 30 seq 59 size 26 pl: ack 59 n. 59\n",
            "log: naif-sw-sender time 14160 node 0 sent packet of size 10020 n. 60\n",
            "log: files-receiver time 14340 node 1 got: src 0 dst 1 type DATA ttl 30 seq 60 size 10020 n: 60\n",
            "log: naif-sw-sender time 14400 node 0 ack packet: src 1 dst 0 type DATA ttl 30 seq 60 size 26 pl: ack 60 n. 60\n",
            "log: naif-sw-sender time 14400 node 0 sent packet of size 10020 n. 61\n",
            "log: files-receiver time 14580 node 1 got: src 0 dst 1 type DATA ttl 30 seq 61 size 10020 n: 61\n",
            "log: naif-sw-sender time 14640 node 0 ack packet: src 1 dst 0 type DATA ttl 30 seq 61 size 26 pl: ack 61 n. 61\n",
            "log: naif-sw-sender time 14640 node 0 sent packet of size 10020 n. 62\n",
            "log: files-receiver time 14820 node 1 got: src 0 dst 1 type DATA ttl 30 seq 62 size 10020 n: 62\n",
            "log: naif-sw-sender time 14880 node 0 ack packet: src 1 dst 0 type DATA ttl 30 seq 62 size 26 pl: ack 62 n. 62\n",
            "log: naif-sw-sender time 14880 node 0 sent packet of size 10020 n. 63\n",
            "log: files-receiver time 15060 node 1 got: src 0 dst 1 type DATA ttl 30 seq 63 size 10020 n: 63\n",
            "log: naif-sw-sender time 15120 node 0 ack packet: src 1 dst 0 type DATA ttl 30 seq 63 size 26 pl: ack 63 n. 63\n",
            "log: naif-sw-sender time 15120 node 0 sent packet of size 10020 n. 64\n",
            "log: files-receiver time 15300 node 1 got: src 0 dst 1 type DATA ttl 30 seq 64 size 10020 n: 64\n",
            "log: naif-sw-sender time 15360 node 0 ack packet: src 1 dst 0 type DATA ttl 30 seq 64 size 26 pl: ack 64 n. 64\n",
            "log: naif-sw-sender time 15360 node 0 sent packet of size 10020 n. 65\n",
            "log: files-receiver time 15540 node 1 got: src 0 dst 1 type DATA ttl 30 seq 65 size 10020 n: 65\n",
            "log: naif-sw-sender time 15600 node 0 ack packet: src 1 dst 0 type DATA ttl 30 seq 65 size 26 pl: ack 65 n. 65\n",
            "log: naif-sw-sender time 15600 node 0 sent packet of size 10020 n. 66\n",
            "log: files-receiver time 15780 node 1 got: src 0 dst 1 type DATA ttl 30 seq 66 size 10020 n: 66\n",
            "log: naif-sw-sender time 15840 node 0 ack packet: src 1 dst 0 type DATA ttl 30 seq 66 size 26 pl: ack 66 n. 66\n",
            "log: naif-sw-sender time 15840 node 0 sent packet of size 10020 n. 67\n",
            "log: files-receiver time 16020 node 1 got: src 0 dst 1 type DATA ttl 30 seq 67 size 10020 n: 67\n",
            "log: naif-sw-sender time 16080 node 0 ack packet: src 1 dst 0 type DATA ttl 30 seq 67 size 26 pl: ack 67 n. 67\n",
            "log: naif-sw-sender time 16080 node 0 sent packet of size 10020 n. 68\n",
            "log: files-receiver time 16260 node 1 got: src 0 dst 1 type DATA ttl 30 seq 68 size 10020 n: 68\n",
            "log: naif-sw-sender time 16320 node 0 ack packet: src 1 dst 0 type DATA ttl 30 seq 68 size 26 pl: ack 68 n. 68\n",
            "log: naif-sw-sender time 16320 node 0 sent packet of size 10020 n. 69\n",
            "log: files-receiver time 16500 node 1 got: src 0 dst 1 type DATA ttl 30 seq 69 size 10020 n: 69\n",
            "log: naif-sw-sender time 16560 node 0 ack packet: src 1 dst 0 type DATA ttl 30 seq 69 size 26 pl: ack 69 n. 69\n",
            "log: naif-sw-sender time 16560 node 0 sent packet of size 10020 n. 70\n",
            "log: files-receiver time 16740 node 1 got: src 0 dst 1 type DATA ttl 30 seq 70 size 10020 n: 70\n",
            "log: naif-sw-sender time 16800 node 0 ack packet: src 1 dst 0 type DATA ttl 30 seq 70 size 26 pl: ack 70 n. 70\n",
            "log: naif-sw-sender time 16800 node 0 sent packet of size 10020 n. 71\n",
            "log: files-receiver time 16980 node 1 got: src 0 dst 1 type DATA ttl 30 seq 71 size 10020 n: 71\n",
            "log: naif-sw-sender time 17040 node 0 ack packet: src 1 dst 0 type DATA ttl 30 seq 71 size 26 pl: ack 71 n. 71\n",
            "log: naif-sw-sender time 17040 node 0 sent packet of size 10020 n. 72\n",
            "log: files-receiver time 17220 node 1 got: src 0 dst 1 type DATA ttl 30 seq 72 size 10020 n: 72\n",
            "log: naif-sw-sender time 17280 node 0 ack packet: src 1 dst 0 type DATA ttl 30 seq 72 size 26 pl: ack 72 n. 72\n",
            "log: naif-sw-sender time 17280 node 0 sent packet of size 10020 n. 73\n",
            "log: files-receiver time 17460 node 1 got: src 0 dst 1 type DATA ttl 30 seq 73 size 10020 n: 73\n",
            "log: naif-sw-sender time 17520 node 0 ack packet: src 1 dst 0 type DATA ttl 30 seq 73 size 26 pl: ack 73 n. 73\n",
            "log: naif-sw-sender time 17520 node 0 sent packet of size 10020 n. 74\n",
            "log: files-receiver time 17700 node 1 got: src 0 dst 1 type DATA ttl 30 seq 74 size 10020 n: 74\n",
            "log: naif-sw-sender time 17760 node 0 ack packet: src 1 dst 0 type DATA ttl 30 seq 74 size 26 pl: ack 74 n. 74\n",
            "log: naif-sw-sender time 17760 node 0 sent packet of size 10020 n. 75\n",
            "log: files-receiver time 17940 node 1 got: src 0 dst 1 type DATA ttl 30 seq 75 size 10020 n: 75\n",
            "log: naif-sw-sender time 18000 node 0 ack packet: src 1 dst 0 type DATA ttl 30 seq 75 size 26 pl: ack 75 n. 75\n",
            "log: naif-sw-sender time 18000 node 0 sent packet of size 10020 n. 76\n",
            "log: files-receiver time 18180 node 1 got: src 0 dst 1 type DATA ttl 30 seq 76 size 10020 n: 76\n",
            "log: naif-sw-sender time 18240 node 0 ack packet: src 1 dst 0 type DATA ttl 30 seq 76 size 26 pl: ack 76 n. 76\n",
            "log: naif-sw-sender time 18240 node 0 sent packet of size 10020 n. 77\n",
            "log: files-receiver time 18420 node 1 got: src 0 dst 1 type DATA ttl 30 seq 77 size 10020 n: 77\n",
            "log: naif-sw-sender time 18480 node 0 ack packet: src 1 dst 0 type DATA ttl 30 seq 77 size 26 pl: ack 77 n. 77\n",
            "log: naif-sw-sender time 18480 node 0 sent packet of size 10020 n. 78\n",
            "log: files-receiver time 18660 node 1 got: src 0 dst 1 type DATA ttl 30 seq 78 size 10020 n: 78\n",
            "log: naif-sw-sender time 18720 node 0 ack packet: src 1 dst 0 type DATA ttl 30 seq 78 size 26 pl: ack 78 n. 78\n",
            "log: naif-sw-sender time 18720 node 0 sent packet of size 10020 n. 79\n",
            "log: files-receiver time 18900 node 1 got: src 0 dst 1 type DATA ttl 30 seq 79 size 10020 n: 79\n",
            "log: naif-sw-sender time 18960 node 0 ack packet: src 1 dst 0 type DATA ttl 30 seq 79 size 26 pl: ack 79 n. 79\n",
            "log: naif-sw-sender time 18960 node 0 sent packet of size 10020 n. 80\n",
            "log: files-receiver time 19140 node 1 got: src 0 dst 1 type DATA ttl 30 seq 80 size 10020 n: 80\n",
            "log: naif-sw-sender time 19200 node 0 ack packet: src 1 dst 0 type DATA ttl 30 seq 80 size 26 pl: ack 80 n. 80\n",
            "log: naif-sw-sender time 19200 node 0 sent packet of size 10020 n. 81\n",
            "log: files-receiver time 19380 node 1 got: src 0 dst 1 type DATA ttl 30 seq 81 size 10020 n: 81\n",
            "log: naif-sw-sender time 19440 node 0 ack packet: src 1 dst 0 type DATA ttl 30 seq 81 size 26 pl: ack 81 n. 81\n",
            "log: naif-sw-sender time 19440 node 0 sent packet of size 10020 n. 82\n",
            "log: files-receiver time 19620 node 1 got: src 0 dst 1 type DATA ttl 30 seq 82 size 10020 n: 82\n",
            "log: naif-sw-sender time 19680 node 0 ack packet: src 1 dst 0 type DATA ttl 30 seq 82 size 26 pl: ack 82 n. 82\n",
            "log: naif-sw-sender time 19680 node 0 sent packet of size 10020 n. 83\n",
            "log: files-receiver time 19860 node 1 got: src 0 dst 1 type DATA ttl 30 seq 83 size 10020 n: 83\n",
            "log: naif-sw-sender time 19920 node 0 ack packet: src 1 dst 0 type DATA ttl 30 seq 83 size 26 pl: ack 83 n. 83\n",
            "log: naif-sw-sender time 19920 node 0 sent packet of size 10020 n. 84\n",
            "log: files-receiver time 20100 node 1 got: src 0 dst 1 type DATA ttl 30 seq 84 size 10020 n: 84\n",
            "log: naif-sw-sender time 20160 node 0 ack packet: src 1 dst 0 type DATA ttl 30 seq 84 size 26 pl: ack 84 n. 84\n",
            "log: naif-sw-sender time 20160 node 0 sent packet of size 10020 n. 85\n",
            "log: files-receiver time 20340 node 1 got: src 0 dst 1 type DATA ttl 30 seq 85 size 10020 n: 85\n",
            "log: naif-sw-sender time 20400 node 0 ack packet: src 1 dst 0 type DATA ttl 30 seq 85 size 26 pl: ack 85 n. 85\n",
            "log: naif-sw-sender time 20400 node 0 sent packet of size 10020 n. 86\n",
            "log: files-receiver time 20580 node 1 got: src 0 dst 1 type DATA ttl 30 seq 86 size 10020 n: 86\n",
            "log: naif-sw-sender time 20640 node 0 ack packet: src 1 dst 0 type DATA ttl 30 seq 86 size 26 pl: ack 86 n. 86\n",
            "log: naif-sw-sender time 20640 node 0 sent packet of size 10020 n. 87\n",
            "log: files-receiver time 20820 node 1 got: src 0 dst 1 type DATA ttl 30 seq 87 size 10020 n: 87\n",
            "log: naif-sw-sender time 20880 node 0 ack packet: src 1 dst 0 type DATA ttl 30 seq 87 size 26 pl: ack 87 n. 87\n",
            "log: naif-sw-sender time 20880 node 0 sent packet of size 10020 n. 88\n",
            "log: files-receiver time 21060 node 1 got: src 0 dst 1 type DATA ttl 30 seq 88 size 10020 n: 88\n",
            "log: naif-sw-sender time 21120 node 0 ack packet: src 1 dst 0 type DATA ttl 30 seq 88 size 26 pl: ack 88 n. 88\n",
            "log: naif-sw-sender time 21120 node 0 sent packet of size 10020 n. 89\n",
            "log: files-receiver time 21300 node 1 got: src 0 dst 1 type DATA ttl 30 seq 89 size 10020 n: 89\n",
            "log: naif-sw-sender time 21360 node 0 ack packet: src 1 dst 0 type DATA ttl 30 seq 89 size 26 pl: ack 89 n. 89\n",
            "log: naif-sw-sender time 21360 node 0 sent packet of size 10020 n. 90\n",
            "log: files-receiver time 21540 node 1 got: src 0 dst 1 type DATA ttl 30 seq 90 size 10020 n: 90\n",
            "log: naif-sw-sender time 21600 node 0 ack packet: src 1 dst 0 type DATA ttl 30 seq 90 size 26 pl: ack 90 n. 90\n",
            "log: naif-sw-sender time 21600 node 0 sent packet of size 10020 n. 91\n",
            "log: files-receiver time 21780 node 1 got: src 0 dst 1 type DATA ttl 30 seq 91 size 10020 n: 91\n",
            "log: naif-sw-sender time 21840 node 0 ack packet: src 1 dst 0 type DATA ttl 30 seq 91 size 26 pl: ack 91 n. 91\n",
            "log: naif-sw-sender time 21840 node 0 sent packet of size 10020 n. 92\n",
            "log: files-receiver time 22020 node 1 got: src 0 dst 1 type DATA ttl 30 seq 92 size 10020 n: 92\n",
            "log: naif-sw-sender time 22080 node 0 ack packet: src 1 dst 0 type DATA ttl 30 seq 92 size 26 pl: ack 92 n. 92\n",
            "log: naif-sw-sender time 22080 node 0 sent packet of size 10020 n. 93\n",
            "log: files-receiver time 22260 node 1 got: src 0 dst 1 type DATA ttl 30 seq 93 size 10020 n: 93\n",
            "log: naif-sw-sender time 22320 node 0 ack packet: src 1 dst 0 type DATA ttl 30 seq 93 size 26 pl: ack 93 n. 93\n",
            "log: naif-sw-sender time 22320 node 0 sent packet of size 10020 n. 94\n",
            "log: files-receiver time 22500 node 1 got: src 0 dst 1 type DATA ttl 30 seq 94 size 10020 n: 94\n",
            "log: naif-sw-sender time 22560 node 0 ack packet: src 1 dst 0 type DATA ttl 30 seq 94 size 26 pl: ack 94 n. 94\n",
            "log: naif-sw-sender time 22560 node 0 sent packet of size 10020 n. 95\n",
            "log: files-receiver time 22740 node 1 got: src 0 dst 1 type DATA ttl 30 seq 95 size 10020 n: 95\n",
            "log: naif-sw-sender time 22800 node 0 ack packet: src 1 dst 0 type DATA ttl 30 seq 95 size 26 pl: ack 95 n. 95\n",
            "log: naif-sw-sender time 22800 node 0 sent packet of size 10020 n. 96\n",
            "log: files-receiver time 22980 node 1 got: src 0 dst 1 type DATA ttl 30 seq 96 size 10020 n: 96\n",
            "log: naif-sw-sender time 23040 node 0 ack packet: src 1 dst 0 type DATA ttl 30 seq 96 size 26 pl: ack 96 n. 96\n",
            "log: naif-sw-sender time 23040 node 0 sent packet of size 10020 n. 97\n",
            "log: files-receiver time 23220 node 1 got: src 0 dst 1 type DATA ttl 30 seq 97 size 10020 n: 97\n",
            "log: naif-sw-sender time 23280 node 0 ack packet: src 1 dst 0 type DATA ttl 30 seq 97 size 26 pl: ack 97 n. 97\n",
            "log: naif-sw-sender time 23280 node 0 sent packet of size 10020 n. 98\n",
            "log: files-receiver time 23460 node 1 got: src 0 dst 1 type DATA ttl 30 seq 98 size 10020 n: 98\n",
            "log: naif-sw-sender time 23520 node 0 ack packet: src 1 dst 0 type DATA ttl 30 seq 98 size 26 pl: ack 98 n. 98\n",
            "log: naif-sw-sender time 23520 node 0 sent packet of size 10020 n. 99\n",
            "log: files-receiver time 23700 node 1 got: src 0 dst 1 type DATA ttl 30 seq 99 size 10020 n: 99\n",
            "log: naif-sw-sender time 23760 node 0 ack packet: src 1 dst 0 type DATA ttl 30 seq 99 size 26 pl: ack 99 n. 99\n",
            "log: naif-sw-sender time 23760 node 0 sent packet of size 10020 n. 100\n",
            "log: files-receiver time 23940 node 1 got: src 0 dst 1 type DATA ttl 30 seq 100 size 10020 n: 100\n",
            "log: naif-sw-sender time 24000 node 0 ack packet: src 1 dst 0 type DATA ttl 30 seq 100 size 27 pl: ack 100 n. 100\n",
            "log: naif-sw-sender time 24000 node 0 1002000 bytes transferred in 24000 ms at 334000 bps e2e rate\n",
            "naif-sw-sender sent 100 packets with blocks\n",
            "naif-sw-sender 1002000 bytes transferred in 24000 ms at 334000 bps e2e rate\n",
            "files-receiver received 100 packets with blocks\n",
            "\n",
            "simulation ended - last processing step with clock = 30000\n",
            "\n"
          ],
          "name": "stdout"
        }
      ]
    },
    {
      "cell_type": "markdown",
      "metadata": {
        "id": "ELuAWi_bHYpr"
      },
      "source": [
        "## Another Solution to the Simulation of the S&W Protocol with CNSS\n",
        "\n",
        "Recall that CNSS has a feature that allows the application algorithm of a node to run a periodic processing step. This can be achieved by making method `initialise()` to return the required periodic execution period. For example, if that method returns 1, the node can execute an action everytime time the clock advances. Each time the clock ticks, the node kernel calls the upcall `on_clock_tick()` where one can state what should be periodically executed.\n",
        "\n",
        "File [NaifSwSenderP.java](https://github.com/jlegatheaux/RC2020-assignments/blob/master/assignment-1/NaifSwSenderP.java) contains another CNSS simulation of the S&W protocol. \n"
      ]
    },
    {
      "cell_type": "code",
      "metadata": {
        "id": "WZwsxCerIZm8",
        "outputId": "9476ec7c-b52b-4bab-f993-96335f03605e",
        "colab": {
          "base_uri": "https://localhost:8080/",
          "height": 34
        }
      },
      "source": [
        "%%writefile assignment1/NaifSwSenderP.java\n",
        "\n",
        "package assignment1;\n",
        "import cnss.lib.*;\n",
        "import cnss.simulator.*;\n",
        "\n",
        "public class NaifSwSenderP extends AbstractApplicationAlgorithm {\n",
        "\n",
        "\tpublic static int BLOCKSIZE = 10000; // 10000*8 = 80000 bits\n",
        "\tpublic static int TOTAL_PACKETSIZE = BLOCKSIZE+Packet.HEADERSIZE; // 10000*8 = 80160 bits\n",
        "\n",
        "\tpublic NaifSwSenderP() {\n",
        "\t\tsuper(true, \"naif-sw-sender-p\");\n",
        "\t}\n",
        "\n",
        "\tint totSent;\n",
        "\tint totalBlocks;\n",
        "\tint startTime;\n",
        "\tint transferTime;\n",
        "\tint totBytesTransferred;\n",
        "\tint e2eTransferRate;\n",
        "\n",
        "\tboolean mayProceed = false;\n",
        "\n",
        "\tpublic int initialise(int now, int node_id, Node self, String[] args) {\n",
        "\t\tsuper.initialise(now, node_id, self, args);\n",
        "\t\tif ( args.length != 1 ) {\n",
        "\t\t\tlog(now, \"ERROR: files-sender: missing argument totalBlocks\");\n",
        "\t\t\tSystem.exit(-1);\n",
        "\t\t}\n",
        "\n",
        "\t\ttotalBlocks = Integer.parseInt(args[0]);\n",
        "\t\tlog(0, \"starting\");\n",
        "\t\tstartTime = now;\n",
        "\t\ttotSent = 0;\n",
        "\t\tmayProceed = true;\n",
        "\t\treturn 1;\t\n",
        "\t}\n",
        "\n",
        "\tpublic void on_clock_tick(int now) {\n",
        "\t\tif ( mayProceed && totSent < totalBlocks) {\n",
        "\t\t\ttotSent++;\n",
        "\t\t\tbyte[] pl = new byte[BLOCKSIZE];\n",
        "\t\t\tpl[0]= (byte) ( totSent & 0xff ); \n",
        "\t\t\tself.send( self.createDataPacket( 1, pl ));\n",
        "\t\t\tlog(now, \"sent packet of size \"+TOTAL_PACKETSIZE+\" n. \"+totSent);\n",
        "\t\t\tmayProceed = false;\n",
        "\t\t}\n",
        "\t}\n",
        "\n",
        "\tpublic void on_receive(int now, DataPacket p) {\n",
        "\t\tlog(now, \"ack packet: \"+p+\" pl: \"+new String(p.getPayload()));\n",
        "\t\tmayProceed = true;\n",
        "\t\tif (totSent == totalBlocks ) {\n",
        "\t\t\ttransferTime = now - startTime;\n",
        "\t\t\ttotBytesTransferred = TOTAL_PACKETSIZE*totalBlocks;\n",
        "\t\t\tfloat transferTimeInSeconds = (float)transferTime / 1000;\n",
        "\t\t\te2eTransferRate = (int)(totBytesTransferred*8 / transferTimeInSeconds);\n",
        "\t\t\tlog(now, totBytesTransferred+\" bytes transferred in \"+transferTime+\" ms at \"+e2eTransferRate+\" bps e2e rate\");\n",
        "\t\t}\n",
        "\t}\n",
        "\n",
        "\tpublic void showState(int now) {\n",
        "\t\tSystem.out.println(name + \" sent \" + totSent + \" packets with blocks\");\n",
        "\t\tSystem.out.println(name+\" \"+totBytesTransferred+\" bytes transferred in \"\n",
        "\t\t\t\t+transferTime+\" ms at \"+e2eTransferRate+\" bps e2e rate\");\n",
        "\t}\n",
        "}"
      ],
      "execution_count": 42,
      "outputs": [
        {
          "output_type": "stream",
          "text": [
            "Overwriting assignment1/NaifSwSenderP.java\n"
          ],
          "name": "stdout"
        }
      ]
    },
    {
      "cell_type": "markdown",
      "metadata": {
        "id": "QfLCokmyI33r"
      },
      "source": [
        "The `on_clock_tick(int now)` upcall executes a regular pattern: it tests conditions before performing some action (the action pre-conditions). If these conditions are met, it executes some action, otherwise does nothing. There may exist more than one action, each with its own pre-condition. In the presented example, the precondition is\n",
        "\n",
        "`mayProceed && totSent < totalBlocks`"
      ]
    },
    {
      "cell_type": "markdown",
      "metadata": {
        "id": "04yELyuqI5Rm"
      },
      "source": [
        "that is, there are data blocks or packets to send (we have not yet sent them all) and nothing prevents us from sending. If that pre-condition is valid, a packet is sent and the variable `mayProceed` becomes *false*, since the sender enters the wait state, waiting for the reception of the ACK (the \"stop transmitting and wait\" in the name S&W of the protocol). In fact, that variable records the state of the execution of the protocol. If it is true, the sender can send one packet, otherwise it must wait for this state to become true, i.e., \"one more packet can be sent if one is available\".\n",
        "\n",
        "The `on_receive(...)` upcall processes the received ACKs. It logs the reception and changes the state to `mayProceed = true` since the sender may proceed. If it is the last ACK, it computes the transfer rate.\n",
        "\n",
        "This pattern of an application algorithm is well suited to express algorithms as automata. The upcalls `on_clock_tick()`, `on_receive()``, on_timeout()`, etc. may all be structured as a kind of \"*switch*\" over state conditions (or automaton state), perform the state corresponding actions and possibly send packets, and, finally, update the state. This kind of pattern is useful to structure certain protocol algorithms better than with a serial sequence of series of actions. With this pattern, these algorithms in CNSS execute as a succession of processing steps, each made of actions related to the current state, followed by a state change, and then wait for the next processing step or event. It is what is called an event-processing like program structure.\n",
        "\n",
        "In CNSS these automata are never ending and may perform too much empty actions if they use very small clock_ticks. Small clock periods may be required to answer state changes timely. In the real world, that would be a solution that wastes CPU cycles, however, as this is just a simulation, the pattern may be implemented as illustrated, without too severe drawbacks. Parameter stop can be used to prevent the simulation from never ending. The only bizarre side efefct is the warning shown by CNSS:\n",
        "\n",
        "`warning - 1 events not run; stopped too early?`\n",
        "\n",
        "because the next clock tick was not executed. It is also possible to stop the simulation calling `System.exit()` in an upcall, but that should be considered bad practive since it is an abrupt halt and may prevent the processing of some events scheduled to happen later.\n",
        "\n"
      ]
    },
    {
      "cell_type": "markdown",
      "metadata": {
        "id": "wTNqdJO-JcPe"
      },
      "source": [
        "### Experiment 6\n",
        "\n",
        "Experiment number 6 corresponds to the transfer of a file of 100 packets from node 0 to node 1 using the [NaifSwSenderP.java](https://github.com/jlegatheaux/RC2020-assignments/blob/master/assignment-1/NaifSwSenderP.java) implementation of the S&W protocol.\n"
      ]
    },
    {
      "cell_type": "code",
      "metadata": {
        "id": "AW95OdtaJiGF",
        "outputId": "97ee44ba-7f75-443c-a228-e658d0dcdec0",
        "colab": {
          "base_uri": "https://localhost:8080/",
          "height": 34
        }
      },
      "source": [
        "%%writefile configs/config1.6.txt\n",
        "# A network with a sender node and a receiver node interconnected\n",
        "# by two switches. All links have 1 Mbps bandwidth and 10 ms latency\n",
        "\n",
        "# uncomment if you want to see control algorithms traces\n",
        "# parameter trace\n",
        "\n",
        "parameter stop 30100\n",
        "\n",
        "Node 0 1 cnss.lib.EndSystemControl assignment1.NaifSwSenderP 100\n",
        "Node 1 1 cnss.lib.EndSystemControl assignment1.FilesReceiverAck\n",
        "Node 2 2 cnss.lib.FloodingSwitch cnss.lib.EmptyApp\n",
        "Node 3 2 cnss.lib.FloodingSwitch cnss.lib.EmptyApp\n",
        "\n",
        "Link 0.0 2.0 2000000 20 0.0 0.0\n",
        "Link 2.1 3.0 2000000 20 0.0 0.0\n",
        "Link 3.1 1.0 2000000 20 0.0 0.0\n",
        "\n",
        "dumpAppState 30000 all"
      ],
      "execution_count": 47,
      "outputs": [
        {
          "output_type": "stream",
          "text": [
            "Overwriting configs/config1.6.txt\n"
          ],
          "name": "stdout"
        }
      ]
    },
    {
      "cell_type": "code",
      "metadata": {
        "id": "wM0ti6RzJOO7",
        "outputId": "c27db8bc-4314-45ef-fde3-bdea0b72a01f",
        "colab": {
          "base_uri": "https://localhost:8080/",
          "height": 1000
        }
      },
      "source": [
        "%%bash\n",
        "\n",
        "javac -cp .:cnss-classes assignment1/*.java\n",
        "java -cp .:cnss-classes cnss.simulator.Simulator configs/config1.6.txt"
      ],
      "execution_count": 48,
      "outputs": [
        {
          "output_type": "stream",
          "text": [
            "Loading configuration : configs/config1.6.txt\n",
            "Reading file\n",
            "Created Node 0: 1 interf.s, ctr code: cnss.lib.EndSystemControl app code: assignment1.NaifSwSenderP\n",
            "Created Node 1: 1 interf.s, ctr code: cnss.lib.EndSystemControl app code: assignment1.FilesReceiverAck\n",
            "Created Node 2: 2 interf.s, ctr code: cnss.lib.FloodingSwitch app code: cnss.lib.EmptyApp\n",
            "Created Node 3: 2 interf.s, ctr code: cnss.lib.FloodingSwitch app code: cnss.lib.EmptyApp\n",
            "Added link to node 0 - Link (Node1:0 I1:0)<-->(Node2:2 I2:0) bwd: 2000000 bps lat: 20 ms error %: 0.0 jit %: 0.0 up\n",
            "Added link to node 2 - Link (Node1:0 I1:0)<-->(Node2:2 I2:0) bwd: 2000000 bps lat: 20 ms error %: 0.0 jit %: 0.0 up\n",
            "Added link to node 2 - Link (Node1:2 I1:1)<-->(Node2:3 I2:0) bwd: 2000000 bps lat: 20 ms error %: 0.0 jit %: 0.0 up\n",
            "Added link to node 3 - Link (Node1:2 I1:1)<-->(Node2:3 I2:0) bwd: 2000000 bps lat: 20 ms error %: 0.0 jit %: 0.0 up\n",
            "Added link to node 3 - Link (Node1:3 I1:1)<-->(Node2:1 I2:0) bwd: 2000000 bps lat: 20 ms error %: 0.0 jit %: 0.0 up\n",
            "Added link to node 1 - Link (Node1:3 I1:1)<-->(Node2:1 I2:0) bwd: 2000000 bps lat: 20 ms error %: 0.0 jit %: 0.0 up\n",
            "\n",
            "simulation starts - first processing step with clock = 0\n",
            "\n",
            "log: naif-sw-sender-p time 0 node 0 starting\n",
            "log: files-receiver time 0 node 1 starting\n",
            "log: naif-sw-sender-p time 1 node 0 sent packet of size 10020 n. 1\n",
            "log: files-receiver time 181 node 1 got: src 0 dst 1 type DATA ttl 30 seq 1 size 10020 n: 1\n",
            "log: naif-sw-sender-p time 241 node 0 ack packet: src 1 dst 0 type DATA ttl 30 seq 1 size 25 pl: ack 1\n",
            "log: naif-sw-sender-p time 241 node 0 sent packet of size 10020 n. 2\n",
            "log: files-receiver time 421 node 1 got: src 0 dst 1 type DATA ttl 30 seq 2 size 10020 n: 2\n",
            "log: naif-sw-sender-p time 481 node 0 ack packet: src 1 dst 0 type DATA ttl 30 seq 2 size 25 pl: ack 2\n",
            "log: naif-sw-sender-p time 481 node 0 sent packet of size 10020 n. 3\n",
            "log: files-receiver time 661 node 1 got: src 0 dst 1 type DATA ttl 30 seq 3 size 10020 n: 3\n",
            "log: naif-sw-sender-p time 721 node 0 ack packet: src 1 dst 0 type DATA ttl 30 seq 3 size 25 pl: ack 3\n",
            "log: naif-sw-sender-p time 721 node 0 sent packet of size 10020 n. 4\n",
            "log: files-receiver time 901 node 1 got: src 0 dst 1 type DATA ttl 30 seq 4 size 10020 n: 4\n",
            "log: naif-sw-sender-p time 961 node 0 ack packet: src 1 dst 0 type DATA ttl 30 seq 4 size 25 pl: ack 4\n",
            "log: naif-sw-sender-p time 961 node 0 sent packet of size 10020 n. 5\n",
            "log: files-receiver time 1141 node 1 got: src 0 dst 1 type DATA ttl 30 seq 5 size 10020 n: 5\n",
            "log: naif-sw-sender-p time 1201 node 0 ack packet: src 1 dst 0 type DATA ttl 30 seq 5 size 25 pl: ack 5\n",
            "log: naif-sw-sender-p time 1201 node 0 sent packet of size 10020 n. 6\n",
            "log: files-receiver time 1381 node 1 got: src 0 dst 1 type DATA ttl 30 seq 6 size 10020 n: 6\n",
            "log: naif-sw-sender-p time 1441 node 0 ack packet: src 1 dst 0 type DATA ttl 30 seq 6 size 25 pl: ack 6\n",
            "log: naif-sw-sender-p time 1441 node 0 sent packet of size 10020 n. 7\n",
            "log: files-receiver time 1621 node 1 got: src 0 dst 1 type DATA ttl 30 seq 7 size 10020 n: 7\n",
            "log: naif-sw-sender-p time 1681 node 0 ack packet: src 1 dst 0 type DATA ttl 30 seq 7 size 25 pl: ack 7\n",
            "log: naif-sw-sender-p time 1681 node 0 sent packet of size 10020 n. 8\n",
            "log: files-receiver time 1861 node 1 got: src 0 dst 1 type DATA ttl 30 seq 8 size 10020 n: 8\n",
            "log: naif-sw-sender-p time 1921 node 0 ack packet: src 1 dst 0 type DATA ttl 30 seq 8 size 25 pl: ack 8\n",
            "log: naif-sw-sender-p time 1921 node 0 sent packet of size 10020 n. 9\n",
            "log: files-receiver time 2101 node 1 got: src 0 dst 1 type DATA ttl 30 seq 9 size 10020 n: 9\n",
            "log: naif-sw-sender-p time 2161 node 0 ack packet: src 1 dst 0 type DATA ttl 30 seq 9 size 25 pl: ack 9\n",
            "log: naif-sw-sender-p time 2161 node 0 sent packet of size 10020 n. 10\n",
            "log: files-receiver time 2341 node 1 got: src 0 dst 1 type DATA ttl 30 seq 10 size 10020 n: 10\n",
            "log: naif-sw-sender-p time 2401 node 0 ack packet: src 1 dst 0 type DATA ttl 30 seq 10 size 26 pl: ack 10\n",
            "log: naif-sw-sender-p time 2401 node 0 sent packet of size 10020 n. 11\n",
            "log: files-receiver time 2581 node 1 got: src 0 dst 1 type DATA ttl 30 seq 11 size 10020 n: 11\n",
            "log: naif-sw-sender-p time 2641 node 0 ack packet: src 1 dst 0 type DATA ttl 30 seq 11 size 26 pl: ack 11\n",
            "log: naif-sw-sender-p time 2641 node 0 sent packet of size 10020 n. 12\n",
            "log: files-receiver time 2821 node 1 got: src 0 dst 1 type DATA ttl 30 seq 12 size 10020 n: 12\n",
            "log: naif-sw-sender-p time 2881 node 0 ack packet: src 1 dst 0 type DATA ttl 30 seq 12 size 26 pl: ack 12\n",
            "log: naif-sw-sender-p time 2881 node 0 sent packet of size 10020 n. 13\n",
            "log: files-receiver time 3061 node 1 got: src 0 dst 1 type DATA ttl 30 seq 13 size 10020 n: 13\n",
            "log: naif-sw-sender-p time 3121 node 0 ack packet: src 1 dst 0 type DATA ttl 30 seq 13 size 26 pl: ack 13\n",
            "log: naif-sw-sender-p time 3121 node 0 sent packet of size 10020 n. 14\n",
            "log: files-receiver time 3301 node 1 got: src 0 dst 1 type DATA ttl 30 seq 14 size 10020 n: 14\n",
            "log: naif-sw-sender-p time 3361 node 0 ack packet: src 1 dst 0 type DATA ttl 30 seq 14 size 26 pl: ack 14\n",
            "log: naif-sw-sender-p time 3361 node 0 sent packet of size 10020 n. 15\n",
            "log: files-receiver time 3541 node 1 got: src 0 dst 1 type DATA ttl 30 seq 15 size 10020 n: 15\n",
            "log: naif-sw-sender-p time 3601 node 0 ack packet: src 1 dst 0 type DATA ttl 30 seq 15 size 26 pl: ack 15\n",
            "log: naif-sw-sender-p time 3601 node 0 sent packet of size 10020 n. 16\n",
            "log: files-receiver time 3781 node 1 got: src 0 dst 1 type DATA ttl 30 seq 16 size 10020 n: 16\n",
            "log: naif-sw-sender-p time 3841 node 0 ack packet: src 1 dst 0 type DATA ttl 30 seq 16 size 26 pl: ack 16\n",
            "log: naif-sw-sender-p time 3841 node 0 sent packet of size 10020 n. 17\n",
            "log: files-receiver time 4021 node 1 got: src 0 dst 1 type DATA ttl 30 seq 17 size 10020 n: 17\n",
            "log: naif-sw-sender-p time 4081 node 0 ack packet: src 1 dst 0 type DATA ttl 30 seq 17 size 26 pl: ack 17\n",
            "log: naif-sw-sender-p time 4081 node 0 sent packet of size 10020 n. 18\n",
            "log: files-receiver time 4261 node 1 got: src 0 dst 1 type DATA ttl 30 seq 18 size 10020 n: 18\n",
            "log: naif-sw-sender-p time 4321 node 0 ack packet: src 1 dst 0 type DATA ttl 30 seq 18 size 26 pl: ack 18\n",
            "log: naif-sw-sender-p time 4321 node 0 sent packet of size 10020 n. 19\n",
            "log: files-receiver time 4501 node 1 got: src 0 dst 1 type DATA ttl 30 seq 19 size 10020 n: 19\n",
            "log: naif-sw-sender-p time 4561 node 0 ack packet: src 1 dst 0 type DATA ttl 30 seq 19 size 26 pl: ack 19\n",
            "log: naif-sw-sender-p time 4561 node 0 sent packet of size 10020 n. 20\n",
            "log: files-receiver time 4741 node 1 got: src 0 dst 1 type DATA ttl 30 seq 20 size 10020 n: 20\n",
            "log: naif-sw-sender-p time 4801 node 0 ack packet: src 1 dst 0 type DATA ttl 30 seq 20 size 26 pl: ack 20\n",
            "log: naif-sw-sender-p time 4801 node 0 sent packet of size 10020 n. 21\n",
            "log: files-receiver time 4981 node 1 got: src 0 dst 1 type DATA ttl 30 seq 21 size 10020 n: 21\n",
            "log: naif-sw-sender-p time 5041 node 0 ack packet: src 1 dst 0 type DATA ttl 30 seq 21 size 26 pl: ack 21\n",
            "log: naif-sw-sender-p time 5041 node 0 sent packet of size 10020 n. 22\n",
            "log: files-receiver time 5221 node 1 got: src 0 dst 1 type DATA ttl 30 seq 22 size 10020 n: 22\n",
            "log: naif-sw-sender-p time 5281 node 0 ack packet: src 1 dst 0 type DATA ttl 30 seq 22 size 26 pl: ack 22\n",
            "log: naif-sw-sender-p time 5281 node 0 sent packet of size 10020 n. 23\n",
            "log: files-receiver time 5461 node 1 got: src 0 dst 1 type DATA ttl 30 seq 23 size 10020 n: 23\n",
            "log: naif-sw-sender-p time 5521 node 0 ack packet: src 1 dst 0 type DATA ttl 30 seq 23 size 26 pl: ack 23\n",
            "log: naif-sw-sender-p time 5521 node 0 sent packet of size 10020 n. 24\n",
            "log: files-receiver time 5701 node 1 got: src 0 dst 1 type DATA ttl 30 seq 24 size 10020 n: 24\n",
            "log: naif-sw-sender-p time 5761 node 0 ack packet: src 1 dst 0 type DATA ttl 30 seq 24 size 26 pl: ack 24\n",
            "log: naif-sw-sender-p time 5761 node 0 sent packet of size 10020 n. 25\n",
            "log: files-receiver time 5941 node 1 got: src 0 dst 1 type DATA ttl 30 seq 25 size 10020 n: 25\n",
            "log: naif-sw-sender-p time 6001 node 0 ack packet: src 1 dst 0 type DATA ttl 30 seq 25 size 26 pl: ack 25\n",
            "log: naif-sw-sender-p time 6001 node 0 sent packet of size 10020 n. 26\n",
            "log: files-receiver time 6181 node 1 got: src 0 dst 1 type DATA ttl 30 seq 26 size 10020 n: 26\n",
            "log: naif-sw-sender-p time 6241 node 0 ack packet: src 1 dst 0 type DATA ttl 30 seq 26 size 26 pl: ack 26\n",
            "log: naif-sw-sender-p time 6241 node 0 sent packet of size 10020 n. 27\n",
            "log: files-receiver time 6421 node 1 got: src 0 dst 1 type DATA ttl 30 seq 27 size 10020 n: 27\n",
            "log: naif-sw-sender-p time 6481 node 0 ack packet: src 1 dst 0 type DATA ttl 30 seq 27 size 26 pl: ack 27\n",
            "log: naif-sw-sender-p time 6481 node 0 sent packet of size 10020 n. 28\n",
            "log: files-receiver time 6661 node 1 got: src 0 dst 1 type DATA ttl 30 seq 28 size 10020 n: 28\n",
            "log: naif-sw-sender-p time 6721 node 0 ack packet: src 1 dst 0 type DATA ttl 30 seq 28 size 26 pl: ack 28\n",
            "log: naif-sw-sender-p time 6721 node 0 sent packet of size 10020 n. 29\n",
            "log: files-receiver time 6901 node 1 got: src 0 dst 1 type DATA ttl 30 seq 29 size 10020 n: 29\n",
            "log: naif-sw-sender-p time 6961 node 0 ack packet: src 1 dst 0 type DATA ttl 30 seq 29 size 26 pl: ack 29\n",
            "log: naif-sw-sender-p time 6961 node 0 sent packet of size 10020 n. 30\n",
            "log: files-receiver time 7141 node 1 got: src 0 dst 1 type DATA ttl 30 seq 30 size 10020 n: 30\n",
            "log: naif-sw-sender-p time 7201 node 0 ack packet: src 1 dst 0 type DATA ttl 30 seq 30 size 26 pl: ack 30\n",
            "log: naif-sw-sender-p time 7201 node 0 sent packet of size 10020 n. 31\n",
            "log: files-receiver time 7381 node 1 got: src 0 dst 1 type DATA ttl 30 seq 31 size 10020 n: 31\n",
            "log: naif-sw-sender-p time 7441 node 0 ack packet: src 1 dst 0 type DATA ttl 30 seq 31 size 26 pl: ack 31\n",
            "log: naif-sw-sender-p time 7441 node 0 sent packet of size 10020 n. 32\n",
            "log: files-receiver time 7621 node 1 got: src 0 dst 1 type DATA ttl 30 seq 32 size 10020 n: 32\n",
            "log: naif-sw-sender-p time 7681 node 0 ack packet: src 1 dst 0 type DATA ttl 30 seq 32 size 26 pl: ack 32\n",
            "log: naif-sw-sender-p time 7681 node 0 sent packet of size 10020 n. 33\n",
            "log: files-receiver time 7861 node 1 got: src 0 dst 1 type DATA ttl 30 seq 33 size 10020 n: 33\n",
            "log: naif-sw-sender-p time 7921 node 0 ack packet: src 1 dst 0 type DATA ttl 30 seq 33 size 26 pl: ack 33\n",
            "log: naif-sw-sender-p time 7921 node 0 sent packet of size 10020 n. 34\n",
            "log: files-receiver time 8101 node 1 got: src 0 dst 1 type DATA ttl 30 seq 34 size 10020 n: 34\n",
            "log: naif-sw-sender-p time 8161 node 0 ack packet: src 1 dst 0 type DATA ttl 30 seq 34 size 26 pl: ack 34\n",
            "log: naif-sw-sender-p time 8161 node 0 sent packet of size 10020 n. 35\n",
            "log: files-receiver time 8341 node 1 got: src 0 dst 1 type DATA ttl 30 seq 35 size 10020 n: 35\n",
            "log: naif-sw-sender-p time 8401 node 0 ack packet: src 1 dst 0 type DATA ttl 30 seq 35 size 26 pl: ack 35\n",
            "log: naif-sw-sender-p time 8401 node 0 sent packet of size 10020 n. 36\n",
            "log: files-receiver time 8581 node 1 got: src 0 dst 1 type DATA ttl 30 seq 36 size 10020 n: 36\n",
            "log: naif-sw-sender-p time 8641 node 0 ack packet: src 1 dst 0 type DATA ttl 30 seq 36 size 26 pl: ack 36\n",
            "log: naif-sw-sender-p time 8641 node 0 sent packet of size 10020 n. 37\n",
            "log: files-receiver time 8821 node 1 got: src 0 dst 1 type DATA ttl 30 seq 37 size 10020 n: 37\n",
            "log: naif-sw-sender-p time 8881 node 0 ack packet: src 1 dst 0 type DATA ttl 30 seq 37 size 26 pl: ack 37\n",
            "log: naif-sw-sender-p time 8881 node 0 sent packet of size 10020 n. 38\n",
            "log: files-receiver time 9061 node 1 got: src 0 dst 1 type DATA ttl 30 seq 38 size 10020 n: 38\n",
            "log: naif-sw-sender-p time 9121 node 0 ack packet: src 1 dst 0 type DATA ttl 30 seq 38 size 26 pl: ack 38\n",
            "log: naif-sw-sender-p time 9121 node 0 sent packet of size 10020 n. 39\n",
            "log: files-receiver time 9301 node 1 got: src 0 dst 1 type DATA ttl 30 seq 39 size 10020 n: 39\n",
            "log: naif-sw-sender-p time 9361 node 0 ack packet: src 1 dst 0 type DATA ttl 30 seq 39 size 26 pl: ack 39\n",
            "log: naif-sw-sender-p time 9361 node 0 sent packet of size 10020 n. 40\n",
            "log: files-receiver time 9541 node 1 got: src 0 dst 1 type DATA ttl 30 seq 40 size 10020 n: 40\n",
            "log: naif-sw-sender-p time 9601 node 0 ack packet: src 1 dst 0 type DATA ttl 30 seq 40 size 26 pl: ack 40\n",
            "log: naif-sw-sender-p time 9601 node 0 sent packet of size 10020 n. 41\n",
            "log: files-receiver time 9781 node 1 got: src 0 dst 1 type DATA ttl 30 seq 41 size 10020 n: 41\n",
            "log: naif-sw-sender-p time 9841 node 0 ack packet: src 1 dst 0 type DATA ttl 30 seq 41 size 26 pl: ack 41\n",
            "log: naif-sw-sender-p time 9841 node 0 sent packet of size 10020 n. 42\n",
            "log: files-receiver time 10021 node 1 got: src 0 dst 1 type DATA ttl 30 seq 42 size 10020 n: 42\n",
            "log: naif-sw-sender-p time 10081 node 0 ack packet: src 1 dst 0 type DATA ttl 30 seq 42 size 26 pl: ack 42\n",
            "log: naif-sw-sender-p time 10081 node 0 sent packet of size 10020 n. 43\n",
            "log: files-receiver time 10261 node 1 got: src 0 dst 1 type DATA ttl 30 seq 43 size 10020 n: 43\n",
            "log: naif-sw-sender-p time 10321 node 0 ack packet: src 1 dst 0 type DATA ttl 30 seq 43 size 26 pl: ack 43\n",
            "log: naif-sw-sender-p time 10321 node 0 sent packet of size 10020 n. 44\n",
            "log: files-receiver time 10501 node 1 got: src 0 dst 1 type DATA ttl 30 seq 44 size 10020 n: 44\n",
            "log: naif-sw-sender-p time 10561 node 0 ack packet: src 1 dst 0 type DATA ttl 30 seq 44 size 26 pl: ack 44\n",
            "log: naif-sw-sender-p time 10561 node 0 sent packet of size 10020 n. 45\n",
            "log: files-receiver time 10741 node 1 got: src 0 dst 1 type DATA ttl 30 seq 45 size 10020 n: 45\n",
            "log: naif-sw-sender-p time 10801 node 0 ack packet: src 1 dst 0 type DATA ttl 30 seq 45 size 26 pl: ack 45\n",
            "log: naif-sw-sender-p time 10801 node 0 sent packet of size 10020 n. 46\n",
            "log: files-receiver time 10981 node 1 got: src 0 dst 1 type DATA ttl 30 seq 46 size 10020 n: 46\n",
            "log: naif-sw-sender-p time 11041 node 0 ack packet: src 1 dst 0 type DATA ttl 30 seq 46 size 26 pl: ack 46\n",
            "log: naif-sw-sender-p time 11041 node 0 sent packet of size 10020 n. 47\n",
            "log: files-receiver time 11221 node 1 got: src 0 dst 1 type DATA ttl 30 seq 47 size 10020 n: 47\n",
            "log: naif-sw-sender-p time 11281 node 0 ack packet: src 1 dst 0 type DATA ttl 30 seq 47 size 26 pl: ack 47\n",
            "log: naif-sw-sender-p time 11281 node 0 sent packet of size 10020 n. 48\n",
            "log: files-receiver time 11461 node 1 got: src 0 dst 1 type DATA ttl 30 seq 48 size 10020 n: 48\n",
            "log: naif-sw-sender-p time 11521 node 0 ack packet: src 1 dst 0 type DATA ttl 30 seq 48 size 26 pl: ack 48\n",
            "log: naif-sw-sender-p time 11521 node 0 sent packet of size 10020 n. 49\n",
            "log: files-receiver time 11701 node 1 got: src 0 dst 1 type DATA ttl 30 seq 49 size 10020 n: 49\n",
            "log: naif-sw-sender-p time 11761 node 0 ack packet: src 1 dst 0 type DATA ttl 30 seq 49 size 26 pl: ack 49\n",
            "log: naif-sw-sender-p time 11761 node 0 sent packet of size 10020 n. 50\n",
            "log: files-receiver time 11941 node 1 got: src 0 dst 1 type DATA ttl 30 seq 50 size 10020 n: 50\n",
            "log: naif-sw-sender-p time 12001 node 0 ack packet: src 1 dst 0 type DATA ttl 30 seq 50 size 26 pl: ack 50\n",
            "log: naif-sw-sender-p time 12001 node 0 sent packet of size 10020 n. 51\n",
            "log: files-receiver time 12181 node 1 got: src 0 dst 1 type DATA ttl 30 seq 51 size 10020 n: 51\n",
            "log: naif-sw-sender-p time 12241 node 0 ack packet: src 1 dst 0 type DATA ttl 30 seq 51 size 26 pl: ack 51\n",
            "log: naif-sw-sender-p time 12241 node 0 sent packet of size 10020 n. 52\n",
            "log: files-receiver time 12421 node 1 got: src 0 dst 1 type DATA ttl 30 seq 52 size 10020 n: 52\n",
            "log: naif-sw-sender-p time 12481 node 0 ack packet: src 1 dst 0 type DATA ttl 30 seq 52 size 26 pl: ack 52\n",
            "log: naif-sw-sender-p time 12481 node 0 sent packet of size 10020 n. 53\n",
            "log: files-receiver time 12661 node 1 got: src 0 dst 1 type DATA ttl 30 seq 53 size 10020 n: 53\n",
            "log: naif-sw-sender-p time 12721 node 0 ack packet: src 1 dst 0 type DATA ttl 30 seq 53 size 26 pl: ack 53\n",
            "log: naif-sw-sender-p time 12721 node 0 sent packet of size 10020 n. 54\n",
            "log: files-receiver time 12901 node 1 got: src 0 dst 1 type DATA ttl 30 seq 54 size 10020 n: 54\n",
            "log: naif-sw-sender-p time 12961 node 0 ack packet: src 1 dst 0 type DATA ttl 30 seq 54 size 26 pl: ack 54\n",
            "log: naif-sw-sender-p time 12961 node 0 sent packet of size 10020 n. 55\n",
            "log: files-receiver time 13141 node 1 got: src 0 dst 1 type DATA ttl 30 seq 55 size 10020 n: 55\n",
            "log: naif-sw-sender-p time 13201 node 0 ack packet: src 1 dst 0 type DATA ttl 30 seq 55 size 26 pl: ack 55\n",
            "log: naif-sw-sender-p time 13201 node 0 sent packet of size 10020 n. 56\n",
            "log: files-receiver time 13381 node 1 got: src 0 dst 1 type DATA ttl 30 seq 56 size 10020 n: 56\n",
            "log: naif-sw-sender-p time 13441 node 0 ack packet: src 1 dst 0 type DATA ttl 30 seq 56 size 26 pl: ack 56\n",
            "log: naif-sw-sender-p time 13441 node 0 sent packet of size 10020 n. 57\n",
            "log: files-receiver time 13621 node 1 got: src 0 dst 1 type DATA ttl 30 seq 57 size 10020 n: 57\n",
            "log: naif-sw-sender-p time 13681 node 0 ack packet: src 1 dst 0 type DATA ttl 30 seq 57 size 26 pl: ack 57\n",
            "log: naif-sw-sender-p time 13681 node 0 sent packet of size 10020 n. 58\n",
            "log: files-receiver time 13861 node 1 got: src 0 dst 1 type DATA ttl 30 seq 58 size 10020 n: 58\n",
            "log: naif-sw-sender-p time 13921 node 0 ack packet: src 1 dst 0 type DATA ttl 30 seq 58 size 26 pl: ack 58\n",
            "log: naif-sw-sender-p time 13921 node 0 sent packet of size 10020 n. 59\n",
            "log: files-receiver time 14101 node 1 got: src 0 dst 1 type DATA ttl 30 seq 59 size 10020 n: 59\n",
            "log: naif-sw-sender-p time 14161 node 0 ack packet: src 1 dst 0 type DATA ttl 30 seq 59 size 26 pl: ack 59\n",
            "log: naif-sw-sender-p time 14161 node 0 sent packet of size 10020 n. 60\n",
            "log: files-receiver time 14341 node 1 got: src 0 dst 1 type DATA ttl 30 seq 60 size 10020 n: 60\n",
            "log: naif-sw-sender-p time 14401 node 0 ack packet: src 1 dst 0 type DATA ttl 30 seq 60 size 26 pl: ack 60\n",
            "log: naif-sw-sender-p time 14401 node 0 sent packet of size 10020 n. 61\n",
            "log: files-receiver time 14581 node 1 got: src 0 dst 1 type DATA ttl 30 seq 61 size 10020 n: 61\n",
            "log: naif-sw-sender-p time 14641 node 0 ack packet: src 1 dst 0 type DATA ttl 30 seq 61 size 26 pl: ack 61\n",
            "log: naif-sw-sender-p time 14641 node 0 sent packet of size 10020 n. 62\n",
            "log: files-receiver time 14821 node 1 got: src 0 dst 1 type DATA ttl 30 seq 62 size 10020 n: 62\n",
            "log: naif-sw-sender-p time 14881 node 0 ack packet: src 1 dst 0 type DATA ttl 30 seq 62 size 26 pl: ack 62\n",
            "log: naif-sw-sender-p time 14881 node 0 sent packet of size 10020 n. 63\n",
            "log: files-receiver time 15061 node 1 got: src 0 dst 1 type DATA ttl 30 seq 63 size 10020 n: 63\n",
            "log: naif-sw-sender-p time 15121 node 0 ack packet: src 1 dst 0 type DATA ttl 30 seq 63 size 26 pl: ack 63\n",
            "log: naif-sw-sender-p time 15121 node 0 sent packet of size 10020 n. 64\n",
            "log: files-receiver time 15301 node 1 got: src 0 dst 1 type DATA ttl 30 seq 64 size 10020 n: 64\n",
            "log: naif-sw-sender-p time 15361 node 0 ack packet: src 1 dst 0 type DATA ttl 30 seq 64 size 26 pl: ack 64\n",
            "log: naif-sw-sender-p time 15361 node 0 sent packet of size 10020 n. 65\n",
            "log: files-receiver time 15541 node 1 got: src 0 dst 1 type DATA ttl 30 seq 65 size 10020 n: 65\n",
            "log: naif-sw-sender-p time 15601 node 0 ack packet: src 1 dst 0 type DATA ttl 30 seq 65 size 26 pl: ack 65\n",
            "log: naif-sw-sender-p time 15601 node 0 sent packet of size 10020 n. 66\n",
            "log: files-receiver time 15781 node 1 got: src 0 dst 1 type DATA ttl 30 seq 66 size 10020 n: 66\n",
            "log: naif-sw-sender-p time 15841 node 0 ack packet: src 1 dst 0 type DATA ttl 30 seq 66 size 26 pl: ack 66\n",
            "log: naif-sw-sender-p time 15841 node 0 sent packet of size 10020 n. 67\n",
            "log: files-receiver time 16021 node 1 got: src 0 dst 1 type DATA ttl 30 seq 67 size 10020 n: 67\n",
            "log: naif-sw-sender-p time 16081 node 0 ack packet: src 1 dst 0 type DATA ttl 30 seq 67 size 26 pl: ack 67\n",
            "log: naif-sw-sender-p time 16081 node 0 sent packet of size 10020 n. 68\n",
            "log: files-receiver time 16261 node 1 got: src 0 dst 1 type DATA ttl 30 seq 68 size 10020 n: 68\n",
            "log: naif-sw-sender-p time 16321 node 0 ack packet: src 1 dst 0 type DATA ttl 30 seq 68 size 26 pl: ack 68\n",
            "log: naif-sw-sender-p time 16321 node 0 sent packet of size 10020 n. 69\n",
            "log: files-receiver time 16501 node 1 got: src 0 dst 1 type DATA ttl 30 seq 69 size 10020 n: 69\n",
            "log: naif-sw-sender-p time 16561 node 0 ack packet: src 1 dst 0 type DATA ttl 30 seq 69 size 26 pl: ack 69\n",
            "log: naif-sw-sender-p time 16561 node 0 sent packet of size 10020 n. 70\n",
            "log: files-receiver time 16741 node 1 got: src 0 dst 1 type DATA ttl 30 seq 70 size 10020 n: 70\n",
            "log: naif-sw-sender-p time 16801 node 0 ack packet: src 1 dst 0 type DATA ttl 30 seq 70 size 26 pl: ack 70\n",
            "log: naif-sw-sender-p time 16801 node 0 sent packet of size 10020 n. 71\n",
            "log: files-receiver time 16981 node 1 got: src 0 dst 1 type DATA ttl 30 seq 71 size 10020 n: 71\n",
            "log: naif-sw-sender-p time 17041 node 0 ack packet: src 1 dst 0 type DATA ttl 30 seq 71 size 26 pl: ack 71\n",
            "log: naif-sw-sender-p time 17041 node 0 sent packet of size 10020 n. 72\n",
            "log: files-receiver time 17221 node 1 got: src 0 dst 1 type DATA ttl 30 seq 72 size 10020 n: 72\n",
            "log: naif-sw-sender-p time 17281 node 0 ack packet: src 1 dst 0 type DATA ttl 30 seq 72 size 26 pl: ack 72\n",
            "log: naif-sw-sender-p time 17281 node 0 sent packet of size 10020 n. 73\n",
            "log: files-receiver time 17461 node 1 got: src 0 dst 1 type DATA ttl 30 seq 73 size 10020 n: 73\n",
            "log: naif-sw-sender-p time 17521 node 0 ack packet: src 1 dst 0 type DATA ttl 30 seq 73 size 26 pl: ack 73\n",
            "log: naif-sw-sender-p time 17521 node 0 sent packet of size 10020 n. 74\n",
            "log: files-receiver time 17701 node 1 got: src 0 dst 1 type DATA ttl 30 seq 74 size 10020 n: 74\n",
            "log: naif-sw-sender-p time 17761 node 0 ack packet: src 1 dst 0 type DATA ttl 30 seq 74 size 26 pl: ack 74\n",
            "log: naif-sw-sender-p time 17761 node 0 sent packet of size 10020 n. 75\n",
            "log: files-receiver time 17941 node 1 got: src 0 dst 1 type DATA ttl 30 seq 75 size 10020 n: 75\n",
            "log: naif-sw-sender-p time 18001 node 0 ack packet: src 1 dst 0 type DATA ttl 30 seq 75 size 26 pl: ack 75\n",
            "log: naif-sw-sender-p time 18001 node 0 sent packet of size 10020 n. 76\n",
            "log: files-receiver time 18181 node 1 got: src 0 dst 1 type DATA ttl 30 seq 76 size 10020 n: 76\n",
            "log: naif-sw-sender-p time 18241 node 0 ack packet: src 1 dst 0 type DATA ttl 30 seq 76 size 26 pl: ack 76\n",
            "log: naif-sw-sender-p time 18241 node 0 sent packet of size 10020 n. 77\n",
            "log: files-receiver time 18421 node 1 got: src 0 dst 1 type DATA ttl 30 seq 77 size 10020 n: 77\n",
            "log: naif-sw-sender-p time 18481 node 0 ack packet: src 1 dst 0 type DATA ttl 30 seq 77 size 26 pl: ack 77\n",
            "log: naif-sw-sender-p time 18481 node 0 sent packet of size 10020 n. 78\n",
            "log: files-receiver time 18661 node 1 got: src 0 dst 1 type DATA ttl 30 seq 78 size 10020 n: 78\n",
            "log: naif-sw-sender-p time 18721 node 0 ack packet: src 1 dst 0 type DATA ttl 30 seq 78 size 26 pl: ack 78\n",
            "log: naif-sw-sender-p time 18721 node 0 sent packet of size 10020 n. 79\n",
            "log: files-receiver time 18901 node 1 got: src 0 dst 1 type DATA ttl 30 seq 79 size 10020 n: 79\n",
            "log: naif-sw-sender-p time 18961 node 0 ack packet: src 1 dst 0 type DATA ttl 30 seq 79 size 26 pl: ack 79\n",
            "log: naif-sw-sender-p time 18961 node 0 sent packet of size 10020 n. 80\n",
            "log: files-receiver time 19141 node 1 got: src 0 dst 1 type DATA ttl 30 seq 80 size 10020 n: 80\n",
            "log: naif-sw-sender-p time 19201 node 0 ack packet: src 1 dst 0 type DATA ttl 30 seq 80 size 26 pl: ack 80\n",
            "log: naif-sw-sender-p time 19201 node 0 sent packet of size 10020 n. 81\n",
            "log: files-receiver time 19381 node 1 got: src 0 dst 1 type DATA ttl 30 seq 81 size 10020 n: 81\n",
            "log: naif-sw-sender-p time 19441 node 0 ack packet: src 1 dst 0 type DATA ttl 30 seq 81 size 26 pl: ack 81\n",
            "log: naif-sw-sender-p time 19441 node 0 sent packet of size 10020 n. 82\n",
            "log: files-receiver time 19621 node 1 got: src 0 dst 1 type DATA ttl 30 seq 82 size 10020 n: 82\n",
            "log: naif-sw-sender-p time 19681 node 0 ack packet: src 1 dst 0 type DATA ttl 30 seq 82 size 26 pl: ack 82\n",
            "log: naif-sw-sender-p time 19681 node 0 sent packet of size 10020 n. 83\n",
            "log: files-receiver time 19861 node 1 got: src 0 dst 1 type DATA ttl 30 seq 83 size 10020 n: 83\n",
            "log: naif-sw-sender-p time 19921 node 0 ack packet: src 1 dst 0 type DATA ttl 30 seq 83 size 26 pl: ack 83\n",
            "log: naif-sw-sender-p time 19921 node 0 sent packet of size 10020 n. 84\n",
            "log: files-receiver time 20101 node 1 got: src 0 dst 1 type DATA ttl 30 seq 84 size 10020 n: 84\n",
            "log: naif-sw-sender-p time 20161 node 0 ack packet: src 1 dst 0 type DATA ttl 30 seq 84 size 26 pl: ack 84\n",
            "log: naif-sw-sender-p time 20161 node 0 sent packet of size 10020 n. 85\n",
            "log: files-receiver time 20341 node 1 got: src 0 dst 1 type DATA ttl 30 seq 85 size 10020 n: 85\n",
            "log: naif-sw-sender-p time 20401 node 0 ack packet: src 1 dst 0 type DATA ttl 30 seq 85 size 26 pl: ack 85\n",
            "log: naif-sw-sender-p time 20401 node 0 sent packet of size 10020 n. 86\n",
            "log: files-receiver time 20581 node 1 got: src 0 dst 1 type DATA ttl 30 seq 86 size 10020 n: 86\n",
            "log: naif-sw-sender-p time 20641 node 0 ack packet: src 1 dst 0 type DATA ttl 30 seq 86 size 26 pl: ack 86\n",
            "log: naif-sw-sender-p time 20641 node 0 sent packet of size 10020 n. 87\n",
            "log: files-receiver time 20821 node 1 got: src 0 dst 1 type DATA ttl 30 seq 87 size 10020 n: 87\n",
            "log: naif-sw-sender-p time 20881 node 0 ack packet: src 1 dst 0 type DATA ttl 30 seq 87 size 26 pl: ack 87\n",
            "log: naif-sw-sender-p time 20881 node 0 sent packet of size 10020 n. 88\n",
            "log: files-receiver time 21061 node 1 got: src 0 dst 1 type DATA ttl 30 seq 88 size 10020 n: 88\n",
            "log: naif-sw-sender-p time 21121 node 0 ack packet: src 1 dst 0 type DATA ttl 30 seq 88 size 26 pl: ack 88\n",
            "log: naif-sw-sender-p time 21121 node 0 sent packet of size 10020 n. 89\n",
            "log: files-receiver time 21301 node 1 got: src 0 dst 1 type DATA ttl 30 seq 89 size 10020 n: 89\n",
            "log: naif-sw-sender-p time 21361 node 0 ack packet: src 1 dst 0 type DATA ttl 30 seq 89 size 26 pl: ack 89\n",
            "log: naif-sw-sender-p time 21361 node 0 sent packet of size 10020 n. 90\n",
            "log: files-receiver time 21541 node 1 got: src 0 dst 1 type DATA ttl 30 seq 90 size 10020 n: 90\n",
            "log: naif-sw-sender-p time 21601 node 0 ack packet: src 1 dst 0 type DATA ttl 30 seq 90 size 26 pl: ack 90\n",
            "log: naif-sw-sender-p time 21601 node 0 sent packet of size 10020 n. 91\n",
            "log: files-receiver time 21781 node 1 got: src 0 dst 1 type DATA ttl 30 seq 91 size 10020 n: 91\n",
            "log: naif-sw-sender-p time 21841 node 0 ack packet: src 1 dst 0 type DATA ttl 30 seq 91 size 26 pl: ack 91\n",
            "log: naif-sw-sender-p time 21841 node 0 sent packet of size 10020 n. 92\n",
            "log: files-receiver time 22021 node 1 got: src 0 dst 1 type DATA ttl 30 seq 92 size 10020 n: 92\n",
            "log: naif-sw-sender-p time 22081 node 0 ack packet: src 1 dst 0 type DATA ttl 30 seq 92 size 26 pl: ack 92\n",
            "log: naif-sw-sender-p time 22081 node 0 sent packet of size 10020 n. 93\n",
            "log: files-receiver time 22261 node 1 got: src 0 dst 1 type DATA ttl 30 seq 93 size 10020 n: 93\n",
            "log: naif-sw-sender-p time 22321 node 0 ack packet: src 1 dst 0 type DATA ttl 30 seq 93 size 26 pl: ack 93\n",
            "log: naif-sw-sender-p time 22321 node 0 sent packet of size 10020 n. 94\n",
            "log: files-receiver time 22501 node 1 got: src 0 dst 1 type DATA ttl 30 seq 94 size 10020 n: 94\n",
            "log: naif-sw-sender-p time 22561 node 0 ack packet: src 1 dst 0 type DATA ttl 30 seq 94 size 26 pl: ack 94\n",
            "log: naif-sw-sender-p time 22561 node 0 sent packet of size 10020 n. 95\n",
            "log: files-receiver time 22741 node 1 got: src 0 dst 1 type DATA ttl 30 seq 95 size 10020 n: 95\n",
            "log: naif-sw-sender-p time 22801 node 0 ack packet: src 1 dst 0 type DATA ttl 30 seq 95 size 26 pl: ack 95\n",
            "log: naif-sw-sender-p time 22801 node 0 sent packet of size 10020 n. 96\n",
            "log: files-receiver time 22981 node 1 got: src 0 dst 1 type DATA ttl 30 seq 96 size 10020 n: 96\n",
            "log: naif-sw-sender-p time 23041 node 0 ack packet: src 1 dst 0 type DATA ttl 30 seq 96 size 26 pl: ack 96\n",
            "log: naif-sw-sender-p time 23041 node 0 sent packet of size 10020 n. 97\n",
            "log: files-receiver time 23221 node 1 got: src 0 dst 1 type DATA ttl 30 seq 97 size 10020 n: 97\n",
            "log: naif-sw-sender-p time 23281 node 0 ack packet: src 1 dst 0 type DATA ttl 30 seq 97 size 26 pl: ack 97\n",
            "log: naif-sw-sender-p time 23281 node 0 sent packet of size 10020 n. 98\n",
            "log: files-receiver time 23461 node 1 got: src 0 dst 1 type DATA ttl 30 seq 98 size 10020 n: 98\n",
            "log: naif-sw-sender-p time 23521 node 0 ack packet: src 1 dst 0 type DATA ttl 30 seq 98 size 26 pl: ack 98\n",
            "log: naif-sw-sender-p time 23521 node 0 sent packet of size 10020 n. 99\n",
            "log: files-receiver time 23701 node 1 got: src 0 dst 1 type DATA ttl 30 seq 99 size 10020 n: 99\n",
            "log: naif-sw-sender-p time 23761 node 0 ack packet: src 1 dst 0 type DATA ttl 30 seq 99 size 26 pl: ack 99\n",
            "log: naif-sw-sender-p time 23761 node 0 sent packet of size 10020 n. 100\n",
            "log: files-receiver time 23941 node 1 got: src 0 dst 1 type DATA ttl 30 seq 100 size 10020 n: 100\n",
            "log: naif-sw-sender-p time 24001 node 0 ack packet: src 1 dst 0 type DATA ttl 30 seq 100 size 27 pl: ack 100\n",
            "log: naif-sw-sender-p time 24001 node 0 1002000 bytes transferred in 24001 ms at 333986 bps e2e rate\n",
            "naif-sw-sender-p sent 100 packets with blocks\n",
            "naif-sw-sender-p 1002000 bytes transferred in 24001 ms at 333986 bps e2e rate\n",
            "files-receiver received 100 packets with blocks\n",
            "\n",
            "warning - 1 events not run; stoped too early?\n",
            "\n",
            "simulation ended - last processing step with clock = 30101\n",
            "\n"
          ],
          "name": "stdout"
        }
      ]
    },
    {
      "cell_type": "markdown",
      "metadata": {
        "id": "KszispTmKUhw"
      },
      "source": [
        "#### Analysis\n",
        "It is interesting to note that this solution takes 1 extra millisecond than the previous one. Can you explain it? You may think of when the first packet has been sent and if it takes extra time from receiving an ACK and sending the next packet.\n",
        "\n",
        "For the sake of practicing this new pattern, you **must use it** in the next deliveries."
      ]
    },
    {
      "cell_type": "markdown",
      "metadata": {
        "id": "tFQLZ3eLLg2N"
      },
      "source": [
        "# Assigment-1 / First delivery\n",
        "## ***Fixed Window Sending Protocols***\n",
        "\n",
        "You noticed that the S&W protocol showed, in previous experiments, an end-to-end transfer rate lower than the capacity of the links. This can be improved using what are called ***sliding window*** protocols, see chapter 6 of the book if you want to study them in advance. With the S&W protocol, one only packet can be in transit from the sender to the receiver, i.e., sent and not yet acknowledged. Sliding window protocols allow a certain number (N) of packets, with N ≥ 1, to be sent by the sender in advance. N is called the size of the window and may be defined as the number of packets in transit from the sender to the receiver, i.e., packets already sent but not yet acknowledged.\n",
        "\n",
        "For example, with a window of size 2, that is with N = 2, two packets may be sent in adavance, and whenever an ACK is received, one more packet can be sent, etc. It is also possible to implement the same idea by sending 2 packets, one after the other in sequence, waiting for their 2 ACKs, and then transmitting 2 more packets, and then, starting all over again after receiving 2 more ACKs, etc. However, the former way we described the algorithm may be more performant than the last in certain conditions (this is an hard issue to be understood) and thats the preferred one.\n",
        "\n",
        "Your sender algorithm should be called `NaifWindSender.java` and must have two parameters: the size of the file, given as the number of packets to send, and the size of window. It must be structured the same way as algorithm [NaifSwSenderP.java](https://github.com/jlegatheaux/RC2020-assignments/blob/master/assignment-1/NaifSwSenderP.java) and use the same methods to compute the end-to-end transfer rate and the same method `showStatus()` (contained in file [NaifSwSender.java](https://github.com/jlegatheaux/RC2020-assignments/blob/master/assignment-1/NaifSwSender.java)). The receiver is the one in file [FilesReceiverAck.java](https://github.com/jlegatheaux/RC2020-assignments/blob/master/assignment-1/FilesReceiverAck.java).\n",
        "\n",
        "Experiments 7, 8 and 9 (look at the contents of their [configuration files](https://github.com/jlegatheaux/RC2020-assignments/tree/master/assignment-1/configs)) contain the 3 experiments that you must successfully run. Files [results/config1.7.txt](https://github.com/jlegatheaux/RC2020-assignments/blob/master/assignment-1/results/config1.7.txt), [results/config1.8.txt](https://github.com/jlegatheaux/RC2020-assignments/blob/master/assignment-1/results/config1.8.txt) and [results/config1.9.txt](https://github.com/jlegatheaux/RC2020-assignments/blob/master/assignment-1/results/config1.9.txt) contain the log results your solution must produce. Your solution is correct if it produces the same results as the ones contained in these files. You may test it using, for example, program diff to compare your output (stored in a file) with these files.\n",
        "\n",
        "Instructors may also test your solution with different parameters than those presented above. You must be prepared to discuss the results of each experiment, namely the values of the end-to-end transfer rates obtained in each case and to compare them with the results of the S&W protocol."
      ]
    },
    {
      "cell_type": "markdown",
      "metadata": {
        "id": "ZrVfhilDL4MN"
      },
      "source": [
        "# Assigment-1 / Second delivery\n",
        "## ***Dynamically Increasing Window Size Protocols***\n",
        "\n",
        "The previous sliding window algorithm uses a contantly sized sending window. In certain circunstances, the sender has no information on the correct size to use. One solution may be to start at a very low transmission rate, and then, if everything is ok, to increase it. Some of these dynamically sized window algorithms can be characterized as additive increasing algorithms or exponentially increasing algorithms. Additive increasing algorithm add 1 to the size of the window when all the packets of the previous window have been acknowledged. Exponentially incresing algorithms double the size of the window when all the packets of the previous window have been acknowledged.\n",
        "\n",
        "For example, in the first round, one packet is sent and its ACK received. In the following round, 2 packets are sent and 2 ACKs are received. In the next one, 4 packets are sent and 4 ACKs are received, and so on. In round K, 2^(K-1) packets are sent and the same number of ACKs received. You are required to implement this exact algorithm.\n",
        "\n",
        "Your sender algorithm shoud be called NaifMincSender and has one parameter, the number of packets to send, i.e. the size of the file. It must be structured the same way as algorithm NaifSwSenderP.java and use the same methods to compute the end-to-end transfer rate, as well as the method showStatus(). The receiver is the same, the one in file FilesReceiverAck.java.\n",
        "\n",
        "Experiment 10 (look at the contents of its configuration file) contains the configuration of the experiment that you must be able to run. File results/config1.10.txt contains the log results your solution must produce. Your solution is correct if it produces the same results. You may test it using, for example, program diff to compare your output (stored in a file) with file results/config1.10.txt.\n",
        "\n",
        "Instructors may also test your solution with different parameters than those presented above. You must be prepared to discuss the results of your experiment, namely the values of the end-to-end transfer rate, and to compare them with the results of the S&W protocol."
      ]
    }
  ]
}