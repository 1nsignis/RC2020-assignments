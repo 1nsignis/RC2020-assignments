{
  "nbformat": 4,
  "nbformat_minor": 0,
  "metadata": {
    "colab": {
      "name": "assignment-1.ipynb",
      "provenance": [],
      "collapsed_sections": [
        "EGrrxPQi6kwF"
      ],
      "authorship_tag": "ABX9TyOO4sDwRZEWs2sbTgwCaRzm",
      "include_colab_link": true
    },
    "kernelspec": {
      "name": "python3",
      "display_name": "Python 3"
    }
  },
  "cells": [
    {
      "cell_type": "markdown",
      "metadata": {
        "id": "view-in-github",
        "colab_type": "text"
      },
      "source": [
        "<a href=\"https://colab.research.google.com/github/jlegatheaux/RC2020-assignments/blob/master/assignment-1/assignment-1.ipynb\" target=\"_parent\"><img src=\"https://colab.research.google.com/assets/colab-badge.svg\" alt=\"Open In Colab\"/></a>"
      ]
    },
    {
      "cell_type": "markdown",
      "metadata": {
        "id": "fEduXmaSfyDB"
      },
      "source": [
        "# RC 2020/2021 - Assignment 1\n",
        "\n",
        "## Goals\n",
        "With this assignment students will get a better understanding of how packet switching networks work, what is the transit time of packets in this type of networks and the way to compute it, and how packet switchning network properties impact the end-to-end performance of sending information from a node to another one.\n",
        "\n",
        "## Assumptions\n",
        "In what follows we will consider, by hypothesis, that all links are perfect and never corrupt or loose packets. The same property applies to nodes - they are bullet proof and never crash or loose packets. Also, as we are using CNSS, all computations are performed instantly, without any delay.\n",
        "\n",
        "Network configurations of the different experiments made in this assignment use links with the same characteristics: bandwidth of 2 M bits per second, or 2,000,000 bps, and a propagation time, or latency, of 20 ms, since they have 4,000 Km each (4000 Km / 200,000 Km per second = 4 x 10^3 / 2 x 10^5 Km per second = 2 x 10^-2 s = 20 ms).\n",
        "\n",
        "## Understanding store & forward, end-to-end transit time and the time required to transfer information in a packet switched network\n",
        "\n",
        "**WARNING 1: please study section 3.2 and 3.3 of the book supporting the course to fully understand this section.**\n",
        "\n",
        "**WARNING 2: please do not forget to update CNSS to its lastest version.**\n",
        "\n",
        "In what follows, we are going to make several experiments with the goal of understanding which factors contribute to the transit time of a packet in a network, as well as to get a first glimpse of what impacts the time required to transfer information from one node to a different one in a packet switched network.\n",
        "\n",
        "The three network configurations used in the first set of experiments [configs/config1.1.txt](configs/config1.1.txt), [configs/config1.2.txt](configs/config1.2.txt) and \n",
        "[configs/config1.3.txt](configs/config1.3.txt) are depicted below:\n",
        "\n"
      ]
    },
    {
      "cell_type": "markdown",
      "metadata": {
        "id": "6HbanVzemT6L"
      },
      "source": [
        "![](https://github.com/jlegatheaux/RC2020-assignments/blob/master/assignment-1/figs/config1.1-3.png?raw=1)"
      ]
    },
    {
      "cell_type": "code",
      "metadata": {
        "id": "KswRWrm1lx0Z"
      },
      "source": [
        "%%writefile config1.1.txt\n",
        "# A network with a sender node and a receiver node interconnected\n",
        "# by a direct link. The link has 1 Mbps bandwidth and 10 ms latency\n",
        "\n",
        "\n",
        "# uncomment if you want to see control algorithms traces\n",
        "# parameter trace \n",
        "\n",
        "\n",
        "Node 0 1 cnss.lib.EndSystemControl FilesSender 10\n",
        "Node 1 1 cnss.lib.EndSystemControl FilesReceiver\n",
        "\n",
        "Link 0.0 1.0 2000000 20 0.0 0.0"
      ],
      "execution_count": null,
      "outputs": []
    },
    {
      "cell_type": "code",
      "metadata": {
        "id": "wXN29SsDlyCt"
      },
      "source": [
        "%%writefile config1.2.txt\n",
        "# A network with a sender node and a receiver node interconnected\n",
        "# by a switch. Both links have 1 Mbps bandwidth and 10 ms latency\n",
        "\n",
        "\n",
        "# uncomment if you want to see control algorithms traces\n",
        "# parameter trace   \n",
        "\n",
        "Node 0 1 cnss.lib.EndSystemControl FilesSender 10\n",
        "Node 1 1 cnss.lib.EndSystemControl FilesReceiver\n",
        "Node 2 2 cnss.lib.FloodingSwitch cnss.lib.EmptyApp\n",
        "\n",
        "Link 0.0 2.0 2000000 20 0.0 0.0\n",
        "Link 1.0 2.1 2000000 20 0.0 0.0"
      ],
      "execution_count": null,
      "outputs": []
    },
    {
      "cell_type": "code",
      "metadata": {
        "id": "2QQ75xsElyL0"
      },
      "source": [
        "%%writefile config1.3.txt\n",
        "# A network with a sender node and a receiver node interconnected\n",
        "# by two switches. All links have 1 Mbps bandwidth and 10 ms latency\n",
        "\n",
        "# uncomment if you want to see control algorithms traces\n",
        "# parameter trace   \n",
        "\n",
        "Node 0 1 cnss.lib.EndSystemControl FilesSender 10\n",
        "Node 1 1 cnss.lib.EndSystemControl FilesReceiver\n",
        "Node 2 2 cnss.lib.FloodingSwitch cnss.lib.EmptyApp\n",
        "Node 3 2 cnss.lib.FloodingSwitch cnss.lib.EmptyApp\n",
        "\n",
        "Link 0.0 2.0 2000000 20 0.0 0.0\n",
        "Link 2.1 3.0 2000000 20 0.0 0.0\n",
        "Link 3.1 1.0 2000000 20 0.0 0.0"
      ],
      "execution_count": null,
      "outputs": []
    },
    {
      "cell_type": "code",
      "metadata": {
        "id": "EogclebxpBx8"
      },
      "source": [
        "%%writefile FilesSender.java\n",
        "\n",
        "import cnss.simulator.*;\n",
        "import cnss.lib.*;\n",
        "\n",
        "public class FilesSender extends AbstractApplicationAlgorithm {\n",
        "\n",
        "\tpublic static int BLOCKSIZE = 10000; // 10000*8 = 80000 bits\n",
        "\tpublic static int TOTAL_PACKETSIZE = BLOCKSIZE+Packet.HEADERSIZE;\n",
        "\n",
        "\n",
        "\tint totSent = 0;\n",
        "\tint filesize = 0;\n",
        "\tint totalBlocks = 0;\n",
        "\n",
        "\tpublic FilesSender() {\n",
        "\t\tsuper(true, \"Files-sender\");\n",
        "\t}\n",
        "\n",
        "\tpublic int initialise(int now, int node_id, Node self, String[] args) {\n",
        "\t\tsuper.initialise(now, node_id, self, args);\n",
        "\t\tlog(0, \"starting\");\n",
        "\t\tif ( args.length != 1 ) {\n",
        "\t\t\tlog(now, \"ERROR: missing argument totalBlocks\");\n",
        "\t\t\tSystem.exit(-1);\n",
        "\t\t}\n",
        "\t\ttotalBlocks = Integer.parseInt(args[0]);\n",
        "\t\tfor ( int i = 1; i <= totalBlocks; i++ ) {\n",
        "\t\t\tself.send( self.createDataPacket( 1, new byte[BLOCKSIZE]));\n",
        "\t\t\tlog(now, \"sent packet of size \"+TOTAL_PACKETSIZE+\" n. \"+i);\n",
        "\t\t}\n",
        "\t\tself.set_timeout(60000); // 60 seconds later\n",
        "\t\treturn 0;\t\n",
        "\t}\n",
        "\n",
        "\tpublic void on_timeout(int now) {\n",
        "\t\tself.send( self.createDataPacket( 1, new byte[TOTAL_PACKETSIZE*totalBlocks]));\n",
        "\t\tlog(now, \"sent packet of size: \"+TOTAL_PACKETSIZE*totalBlocks+\" n. \"+(totalBlocks+1));\n",
        "\t}\n",
        "\n",
        "\tpublic void on_receive(int now, DataPacket p) {\n",
        "\t\tlog(now, \"received ack \"+p+ \" w/ payload \"+new String(p.getPayload()));\n",
        "\t}\n",
        "\n",
        "\tpublic void showState(int now) {\n",
        "\t\tSystem.out.println(name + \" sent \" + totSent + \" packets with blocks\");\n",
        "\t}\n",
        "} "
      ],
      "execution_count": null,
      "outputs": []
    },
    {
      "cell_type": "markdown",
      "metadata": {
        "id": "h_fJsdThzzqR"
      },
      "source": [
        "The sender code deserves only a few comments. \n",
        "\n",
        "Upon initialization, the file is transfered in multiple packets, as given\n",
        "by the node's argument.\n",
        "\n",
        "To send the file in just one big packet, a timeout is setup during initialisation to set an alarm for 60000 ms or 60 seconds later. The big packet is then sent when upcall `on_timeout()` is executed. \n",
        "\n",
        "In order to make both tranfer solutions comparable, when one only packet is sent, its size has been incresed n times the size of the header of a packet (n times 20 bytes). Therefore, the total number of bytes transfered with the two solutions only differs by 20 bytes (the size of the header of the big packet). \n",
        "\n",
        "The application code of the sender node is prepared to receive an ack from the receiver. However, with these three experiments, no acks are sent by node 1, the receiver. \n",
        "\n",
        "The application uses logging to show how the transfer is progressing. The application code of the receiver node also uses logging to show when packets are received, see below.\n",
        "\n",
        "The receiver application is shown below. The most relevant part is its `on_receive()` upcall, which merely logs packet reception and the total number of packets already received.\n",
        "\n"
      ]
    },
    {
      "cell_type": "code",
      "metadata": {
        "id": "ZDIgggl2pyLI"
      },
      "source": [
        "%%writefile FilesReceiver.java\n",
        "\n",
        "import cnss.simulator.*;\n",
        "import cnss.lib.*;\n",
        "\n",
        "public class FilesReceiver extends AbstractApplicationAlgorithm {\n",
        "\t\n",
        "\tint totReceived = 0;\n",
        "\n",
        "  public FilesReceiver() {\n",
        "      super(true, \"Files-receiver\");\n",
        "  }\n",
        "\n",
        "  public int initialise(int now, int node_id, Node self, String[] args) {\n",
        "\t  super.initialise(now, node_id, self, args);\n",
        "\t  log(0, \"starting\");\n",
        "\t  return 0;\n",
        "\t}\n",
        "\n",
        "  public void on_receive( int now, DataPacket p ) {\n",
        "\t  totReceived++;\n",
        "\t  log(now, \"got: \" + p + \" n. \"+totReceived);\n",
        "  }\n",
        "  \n",
        "\tpublic void showState(int now) {\n",
        "\t\tSystem.out.println(name + \" received \"+totReceived+\" packets with blocks\");\n",
        "\t}\n",
        "} "
      ],
      "execution_count": null,
      "outputs": []
    },
    {
      "cell_type": "markdown",
      "metadata": {
        "id": "2suOd13L0bpr"
      },
      "source": [
        "### First Experiment"
      ]
    },
    {
      "cell_type": "code",
      "metadata": {
        "id": "rx70ZFOtqUHR"
      },
      "source": [
        "%%bash\n",
        "\n",
        "# Fetch the CNSS repository and compile it\n",
        "git clone https://github.com/jlegatheaux/cnss.git 2> /dev/null || git -C cnss pull\n",
        "javac -d cnss-classes cnss/src/*/*/*.java\n",
        "\n",
        "\n",
        "javac -cp .:cnss-classes *.java\n",
        "java -cp .:cnss-classes cnss.simulator.Simulator config1.1.txt"
      ],
      "execution_count": null,
      "outputs": []
    },
    {
      "cell_type": "markdown",
      "metadata": {
        "id": "JPwyXGOz2Tqp"
      },
      "source": [
        "### Analysis\n",
        "\n",
        "By following the output of the simulation, it is easy to observe that the 10th packet has been received at time 420. Thus, the file took 420 ms seconds to be transfered with the solution that sent 10 times 10,000 bytes packets. The same time it takes when the file is transferred in one only big packet of 100,000 bytes plus 200 bytes of headers.\n",
        "\n",
        "You can easily compute analytically these results. \n",
        "\n",
        "In order to fully understand how that should be done, you must study sections 3.2 and 3.3 of Chapter 3 of the book of the course. \n",
        "\n",
        "Transmission time (Tt) of a packet with 10,000 Bytes (80,000 bits) to a link with 2 Mbps bit rate is 40 ms (Tt = size in bits / bit rate = 80000 / 2000000 = 0,040). The transmission time of the big packet is 10 times this and the propagation time of the link is 20 ms.\n"
      ]
    },
    {
      "cell_type": "markdown",
      "metadata": {
        "id": "jZfRFbPY5r-T"
      },
      "source": [
        "#### Second Experiment\n",
        "\n",
        "After understanding everything you can now proceed to the next experiment, and give the following command:\n",
        "\n"
      ]
    },
    {
      "cell_type": "code",
      "metadata": {
        "id": "cYPJavnE54yx"
      },
      "source": [
        "%%bash\n",
        "java -cp .:cnss-classes cnss.simulator.Simulator config1.2.txt"
      ],
      "execution_count": null,
      "outputs": []
    },
    {
      "cell_type": "markdown",
      "metadata": {
        "id": "QL8wVZ1H5zO9"
      },
      "source": [
        "### Third Experiment"
      ]
    },
    {
      "cell_type": "code",
      "metadata": {
        "id": "TwZGdo8B6KMQ"
      },
      "source": [
        "%%bash\n",
        "java -cp .:cnss-classes cnss.simulator.Simulator config1.3.txt"
      ],
      "execution_count": null,
      "outputs": []
    },
    {
      "cell_type": "markdown",
      "metadata": {
        "id": "EGrrxPQi6kwF"
      },
      "source": [
        "Now things become more interesting, since the times taken by the two transfers took are different. \n",
        "\n",
        "It is worth noting that in the Internet, as well as in almost all networks, it is not possible to send packets as big as the big packet used to send the file in one only packet. NCSS makes no restrictions on the size of packets because it is a simulation tool. Nevertheless, the experiments also show that it is not very interesting to use huge sized packets (this is a relative concept related to the bandwidth of links) as we will see next.\n",
        "\n",
        "In fact, in experiment 2, when the file is sent in 10 packets, it takes 480 ms to get to the destination, instead of 420 in the first experiment, while it takes 540 ms in the third experiment. \n",
        "\n",
        "You should repeat the analytical analysis required to understand why these results are obtained. From experiment 1 to 2, the transfer time increased 60 ms, while in experiment 3 it increased 60 ms over experiment 2 and 120 ms over experiment 1.\n",
        "\n",
        "The increase from one experiment to the following one is related to the extra transmission time introduced by the extra switch and link, added to the latency of the extra link. You can use the figure below to better understand the reasons that explain it.\n",
        "\n",
        "![](figs/storeForward1.png)\n",
        "\n",
        "As it is explained in the book, packet switched networks employ switches that use the store & forward principle, which states that packets must be fully received by a switch before being forwarded to the next one (or to an end-system). While the switch can send and receive several packets in parallel over different links, each packet can only be forwarded after being fully received, analysed and processed. It is only then that the outgoing interface in its way to the destination is choosen and its transmission may proceed. As such, if we replace one link by several links interconnected by switches, even if the sum of the latencies of the new links is equal to the latency of the replaced one, each link introduces an extra transmission time to the packet end-to-end transfer time.\n",
        "\n",
        "If we look now at the results of the three experiments in what concerns the transfer of the file in one only big packet, more lessons can be learned. \n",
        "\n",
        "In experiment 1, the transfer using one only packet took 420 ms to complete, the same when several packets were used. However in experiment 2 the same transfer takes 840 ms and 1260 ms in experiment 3. From one experiment to the following, the transfer time increased 420 ms. That increase is also due to the same reason, a transmission time plus the latency of the extra switch and link introduced eah time. However, now, the transmission time of the big packet takes 400 ms instead of the 40 ms that each \"small\" packet took. \n",
        "\n",
        "The figure below illustrates quite clearly the difference between experiments 1 and 2. \n",
        "\n",
        "![](figs/storeForward2.png)\n",
        "\n",
        "The lesson is, if links have bit rates that introduce significant transmission times, increasing the size of packets may introduce unexpected increases in transit time.\n",
        "\n",
        "Before proceeding you should review the 3 experiments and take a sheet of paper and redo the calculations in the three cases to compare your computations with the results shown by the simulations. You should be convinced at the end, that computing transfer times in a network where no packets are lost, and there is no competing traffic (other sources sending packets that cross the same links that your packets also cross) is not difficult at all.\n",
        "\n",
        "### Further experiments\n",
        "\n",
        "You can also repeat the same experiments with bigger files (more packets) or with links with higher bit rates. If you increase the bandwithd of links from 2 Mbps, to, for example, 100 Mbps or to 1000 Mbps (1 Gbps), the transmission times become very small. For example, sending 80,000 bits at 1 Mbps requires 80 ms, while sending the same packet at 1 Gbps only requires 0,08 ms or 80 micro seconds. As the bandwidth increases, the dominant factor in end-to-end transit time is links latency.\n",
        "\n",
        "**Warning:** when changing a configuration file, you should pay attention to the fact that you may not make mistakes or otherwise NCSS crashes miserably. In particular, each token in the file must be separated from the next one by exactly one space character and you must not enter lines with only spaces. In a next version we will improve the configuration file parsing habilities of CNSS.\n",
        "\n",
        "A last interesting observation concerning CNSS is related to the fact that these three configuration files have no stop parameter. Sometimes it is not required to introduce one, since CNSS recognizes that no more events can be fired in the simulation and stops its processing."
      ]
    },
    {
      "cell_type": "markdown",
      "metadata": {
        "id": "VytxYIY_-waL"
      },
      "source": [
        "# Data Transmission with Flow Control\n",
        "\n",
        "In real networks several problems may arise, like packets being lost or delivered out of order to receiver nodes. The previous experiments solutions cannot deal with these real world problems and will fail, since the data sent and received may differ. In assignment 2 we will study methods to deal with these characetristics of real networks.\n",
        "\n",
        "Additionally, the previous shown data transfer solutions also cannot deal with another problem, related, not with the network, but with the characteristics of real world nodes, namely, the fact that their processing capacities are different. Therefore, a very powerful node can send data at a rate that a less powerful receiver one is not able to process timely. If that is the case, packets may also be lost because the receiver cannot process all the packets that it receives, and the only solution is to discard some of them. The final result is the same as if these discarded packets were not delivered by the network.\n",
        "\n",
        "Solutions to this problem are know as ***flow adaptation*** or ***flow control*** solutions, that provide methods to adapt the sending rate of senders to the processing rate of receivers.\n",
        "\n",
        "There exists another problem of rate adaptation related with the fact that an high capacity sender can saturate a network not able to deliver packets sent at a too high rate. For example, at the same time, other nodes are also sending many packets that cross the same links as our high performance sender. In that case, it is also necessary to adapt the rate of the sending nodes to the capacity available inside the network. The solution to this probleam is called ***network congestion control***.\n",
        "\n",
        "Flow control methods and network congestion control methods are different, but both share some common characteristics. In fact, both may rely on signals sent by receivers (or the network) to senders, telling them to stop, refraining sending packets, or to continue sending them. Both methods are discussed in several chapters of the book, namely chapters 6, 7 and 8. By now you do not need to study these chapters to understand this assignment, but you will need them for the next assigments.\n",
        "\n",
        "\n",
        "## The Stop and Wait Flow Control\n",
        "\n",
        "The simplest method of flow control is know as \"Stop & Wait\" flow control or S&W for short. S&W is also the name of the protocol that relies on this method. It is a very simple protocol. Each time the sender sends a packet, it will enter a waiting phase, up to reception of a signal from the receiver meaning that it received the packet and it is ready for the next one. These small signal packets are known as acknowledgement packets or ACK packets.\n",
        "\n",
        "The application algorithm of a receiver node using this protocol is available in file [FilesReceiverAck.java](files/FilesReceiverAck.java). Again, the only upcall worth discussion is the `on_receive()` one, see below. It logs the reception of the packet and answers the sender sending it an ACK packet with the number of received packets up to now (including this one).\n"
      ]
    },
    {
      "cell_type": "code",
      "metadata": {
        "id": "qRmMyrr7AJY7"
      },
      "source": [
        "%%writefile FilesReceiverAck.java\n",
        "\n",
        "import cnss.simulator.*;\n",
        "import cnss.lib.*;\n",
        "\n",
        "public class FilesReceiverAck extends AbstractApplicationAlgorithm {\n",
        "\t\n",
        "\tint totReceived = 0;\n",
        "\n",
        "  public FilesReceiverAck() {\n",
        "      super(true, \"files-receiver\");\n",
        "  }\n",
        "\n",
        "  public int initialise(int now, int node_id, Node self, String[] args) {\n",
        "\t  super.initialise(now, node_id, self, args);\n",
        "\t  log(0, \"starting\");\n",
        "\t  return 0;\n",
        "\t}\n",
        "  \n",
        "  public void on_receive( int now, DataPacket p ) {\n",
        "\t  totReceived++;\n",
        "\t  log(now, \"got: \" + p + \" n: \"+(int)(p.getPayload()[0]));\n",
        "      self.send( self.createDataPacket( p.getSource(), (\"ack \"+totReceived).getBytes() ) );\n",
        "  }\n",
        "  \n",
        "\tpublic void showState(int now) {\n",
        "\t\tSystem.out.println(name + \" received \"+totReceived+\" packets with blocks\");\n",
        "\t}\n",
        "} "
      ],
      "execution_count": null,
      "outputs": []
    },
    {
      "cell_type": "markdown",
      "metadata": {
        "id": "HJW3c3wYA1n6"
      },
      "source": [
        "The code of the sender node is a litle bit more elaborated. It is contained in file [NaifSwSender.java](files/NaifSwSender.java) and it is shown next (we only show the `initialise()`, `on_receive()` and `showState()` methods). We call this solution and the next ones *Naif* since they are not acceptable for real world scenarios where networks may loose packets."
      ]
    },
    {
      "cell_type": "code",
      "metadata": {
        "id": "_qFGxa_YBa2M"
      },
      "source": [
        "%%writefile NaifSwSender.java\n",
        "\n",
        "import cnss.lib.*;\n",
        "import cnss.simulator.*;\n",
        "\n",
        "public class NaifSwSender extends AbstractApplicationAlgorithm {\n",
        "\n",
        "\tpublic static int BLOCKSIZE = 10000; // 10000*8 = 80000 bits\n",
        "\tpublic static int TOTAL_PACKETSIZE = BLOCKSIZE+Packet.HEADERSIZE; // 10000*8 = 80160 bits\n",
        "\n",
        "\tpublic NaifSwSender() {\n",
        "\t\tsuper(true, \"naif-sw-sender\");\n",
        "\t}\n",
        "\n",
        "\tint totSent;\n",
        "\tint totalBlocks;\n",
        "\tint startTime;\n",
        "\tint transferTime;\n",
        "\tint totBytesTransferred;\n",
        "\tint e2eTransferRate;\n",
        "\n",
        "\tpublic int initialise(int now, int node_id, Node self, String[] args) {\n",
        "\t\tsuper.initialise(now, node_id, self, args);\n",
        "\t\tif ( args.length != 1 ) {\n",
        "\t\t\tlog(now, \"ERROR: files-sender: missing argument totalBlocks \"+now+\"\\n\\n\");\n",
        "\t\t\tSystem.exit(-1);\n",
        "\t\t}\n",
        "\n",
        "\t\ttotalBlocks = Integer.parseInt(args[0]);\n",
        "\t\tlog(now, \"starting\");\n",
        "\t\tstartTime = now;\n",
        "\t\ttotSent = 1;\n",
        "\t\tbyte[] pl = new byte[BLOCKSIZE];\n",
        "\t\tpl[0]= (byte) ( totSent & 0xff ); \n",
        "\t\tself.send( self.createDataPacket( 1, pl ));\n",
        "\t\tlog(now, \"sent packet of size \"+TOTAL_PACKETSIZE+\" n. \"+totSent);\t\n",
        "\t\treturn 0;\t\n",
        "\t}\n",
        "\n",
        "\tpublic void on_receive(int now, DataPacket p) {\n",
        "\t\tlog(now, \"ack packet: \"+p+\" pl: \"+new String(p.getPayload())+\" n. \"+totSent);\n",
        "\t\tif (totSent <= totalBlocks - 1) {\n",
        "\t\t\ttotSent++;\n",
        "\t\t\tbyte[] pl = new byte[BLOCKSIZE];\n",
        "\t\t\tpl[0]= (byte) ( totSent & 0xff ); \n",
        "\t\t\tself.send( self.createDataPacket( 1, pl ));\n",
        "\t\t\tlog(now, \"sent packet of size \"+TOTAL_PACKETSIZE+\" n. \"+totSent);\t\t\n",
        "\t\t} else if (totSent == totalBlocks ) {\t\t\n",
        "\t\t\ttransferTime = now - startTime;\n",
        "\t\t\ttotBytesTransferred = TOTAL_PACKETSIZE*totalBlocks;\n",
        "\t\t\tfloat transferTimeInSeconds = (float)transferTime / 1000;\n",
        "\t\t\te2eTransferRate = (int) (totBytesTransferred*8 / transferTimeInSeconds);\n",
        "\t\t\tlog(now, totBytesTransferred+\" bytes transferred in \"+transferTime+\" ms at \"+e2eTransferRate+\" bps e2e rate\");\n",
        "\t\t}\n",
        "\t}\n",
        "\n",
        "\tpublic void showState(int now) {\n",
        "\t\tSystem.out.println(name + \" sent \" + totSent + \" packets with blocks\");\n",
        "\t\tSystem.out.println(name+\" \"+totBytesTransferred+\" bytes transferred in \"\n",
        "\t\t\t\t+transferTime+\" ms at \"+e2eTransferRate+\" bps e2e rate\");\n",
        "\t}\n",
        "}"
      ],
      "execution_count": null,
      "outputs": []
    },
    {
      "cell_type": "markdown",
      "metadata": {
        "id": "J26AhjjACBql"
      },
      "source": [
        "The sender, after the initialisation of its variables, sends the first packet. Then, each time it receives a packet from the receiver (an ACK), it proceeds to the next packet (while not all packets have been sent and acked). When the last ACK is received, it computes the transfer rate and prints it. For the sake of increasing clarity of the logs (nothing more) it puts in the first byte of the sent packet its order (thus, if more than 254 packets are sent, this number will turn to 0 again).\n",
        "\n",
        "All the following experiments are performed by using the network configuration below, which is already known.\n",
        "\n",
        "![](figs/config1.4-.png)"
      ]
    },
    {
      "cell_type": "markdown",
      "metadata": {
        "id": "6HtkJGF_EVNF"
      },
      "source": [
        "### Experiment 4\n",
        "\n",
        "It is now interesting to experiment the transfer of the file with this new solution. That is done using configuration [config.1.4.txt](config.1.4.txt), as follows:"
      ]
    },
    {
      "cell_type": "code",
      "metadata": {
        "id": "iiphY4bSEWHk"
      },
      "source": [
        "%%writefile config1.4.txt\n",
        "# A network with a sender node and a receiver node interconnected\n",
        "# by two switches. All links have 1 Mbps bandwidth and 10 ms latency\n",
        "\n",
        "# uncomment if you want to see control algorithms traces\n",
        "# parameter trace   \n",
        "\n",
        "Node 0 1 cnss.lib.EndSystemControl NaifSwSender 10\n",
        "Node 1 1 cnss.lib.EndSystemControl FilesReceiverAck\n",
        "Node 2 2 cnss.lib.FloodingSwitch cnss.lib.EmptyApp\n",
        "Node 3 2 cnss.lib.FloodingSwitch cnss.lib.EmptyApp\n",
        "\n",
        "Link 0.0 2.0 2000000 20 0.0 0.0\n",
        "Link 2.1 3.0 2000000 20 0.0 0.0\n",
        "Link 3.1 1.0 2000000 20 0.0 0.0\n",
        "\n",
        "dumpAppState 30000 all"
      ],
      "execution_count": null,
      "outputs": []
    },
    {
      "cell_type": "code",
      "metadata": {
        "id": "lexMDWloDYsn"
      },
      "source": [
        "%%bash \n",
        "javac -cp .:cnss-classes *.java\n",
        "java -cp .:cnss-classes cnss.simulator.Simulator config1.4.txt"
      ],
      "execution_count": null,
      "outputs": []
    },
    {
      "cell_type": "markdown",
      "metadata": {
        "id": "_bbo8nUgDgh6"
      },
      "source": [
        "The result of the experiment shows that the transfer of the file took 2400 ms, much longer than in previous experiments, at an end-to-end rate of 334,000 bits per second or around 1/3 of the links bandwidth.\n",
        "\n",
        "It is interesting to explain these results while also computing them analytically. You should also compute what is called the ***usage ratio*** of the links. If you have doubts, chapter 6 of the book may help you.\n",
        "\n",
        "\n",
        "### Experiment 5\n",
        "\n",
        "In this experiment, a file with a length of 100 packets, instead of 10, is transferred. The result, as expected, shows an identical end-to-end transfer rate. This experiment will be used as a reference to the next experiments.\n"
      ]
    },
    {
      "cell_type": "code",
      "metadata": {
        "id": "jOjZbw6sGOEb"
      },
      "source": [
        "%%writefile config1.5.txt\n",
        "# A network with a sender node and a receiver node interconnected\n",
        "# by two switches. All links have 1 Mbps bandwidth and 10 ms latency\n",
        "\n",
        "# uncomment if you want to see control algorithms traces\n",
        "# parameter trace   \n",
        "\n",
        "Node 0 1 cnss.lib.EndSystemControl NaifSwSender 100\n",
        "Node 1 1 cnss.lib.EndSystemControl FilesReceiverAck\n",
        "Node 2 2 cnss.lib.FloodingSwitch cnss.lib.EmptyApp\n",
        "Node 3 2 cnss.lib.FloodingSwitch cnss.lib.EmptyApp\n",
        "\n",
        "Link 0.0 2.0 2000000 20 0.0 0.0\n",
        "Link 2.1 3.0 2000000 20 0.0 0.0\n",
        "Link 3.1 1.0 2000000 20 0.0 0.0\n",
        "\n",
        "dumpAppState 30000 all"
      ],
      "execution_count": null,
      "outputs": []
    },
    {
      "cell_type": "code",
      "metadata": {
        "id": "vcEySqMIEKBI"
      },
      "source": [
        "%%bash\n",
        "\n",
        "java -cp .:cnss-classes cnss.simulator.Simulator config1.5.txt"
      ],
      "execution_count": null,
      "outputs": []
    },
    {
      "cell_type": "markdown",
      "metadata": {
        "id": "ELuAWi_bHYpr"
      },
      "source": [
        "## Another Solution to the Simulation of the S&W Protocol with CNSS\n",
        "\n",
        "Recall that CNSS has a feature that allows the application algorithm of a node to run a periodic processing step. This can be achieved by making method `initialise()` to return the required periodic execution period. For example, if that method returns 1, the node can execute an action everytime time the clock advances. Each time the clock ticks, the node kernel calls the upcall `on_clock_tick()` where one can state what should be periodically executed.\n",
        "\n",
        "File [NaifSwSenderP.java](NaifSwSenderP.java) contains another CNSS simulation of the S&W protocol. \n"
      ]
    },
    {
      "cell_type": "code",
      "metadata": {
        "id": "WZwsxCerIZm8"
      },
      "source": [
        "%%writefile NaifSwSenderP.java\n",
        "\n",
        "import cnss.lib.*;\n",
        "import cnss.simulator.*;\n",
        "\n",
        "public class NaifSwSenderP extends AbstractApplicationAlgorithm {\n",
        "\n",
        "\tpublic static int BLOCKSIZE = 10000; // 10000*8 = 80000 bits\n",
        "\tpublic static int TOTAL_PACKETSIZE = BLOCKSIZE+Packet.HEADERSIZE; // 10000*8 = 80160 bits\n",
        "\n",
        "\tpublic NaifSwSenderP() {\n",
        "\t\tsuper(true, \"naif-sw-sender-p\");\n",
        "\t}\n",
        "\n",
        "\tint totSent;\n",
        "\tint totalBlocks;\n",
        "\tint startTime;\n",
        "\tint transferTime;\n",
        "\tint totBytesTransferred;\n",
        "\tint e2eTransferRate;\n",
        "\n",
        "\tboolean mayProceed = false;\n",
        "\n",
        "\tpublic int initialise(int now, int node_id, Node self, String[] args) {\n",
        "\t\tsuper.initialise(now, node_id, self, args);\n",
        "\t\tif ( args.length != 1 ) {\n",
        "\t\t\tlog(now, \"ERROR: files-sender: missing argument totalBlocks\");\n",
        "\t\t\tSystem.exit(-1);\n",
        "\t\t}\n",
        "\n",
        "\t\ttotalBlocks = Integer.parseInt(args[0]);\n",
        "\t\tlog(0, \"starting\");\n",
        "\t\tstartTime = now;\n",
        "\t\ttotSent = 0;\n",
        "\t\tmayProceed = true;\n",
        "\t\treturn 1;\t\n",
        "\t}\n",
        "\n",
        "\tpublic void on_clock_tick(int now) {\n",
        "\t\tif ( mayProceed && totSent < totalBlocks) {\n",
        "\t\t\ttotSent++;\n",
        "\t\t\tbyte[] pl = new byte[BLOCKSIZE];\n",
        "\t\t\tpl[0]= (byte) ( totSent & 0xff ); \n",
        "\t\t\tself.send( self.createDataPacket( 1, pl ));\n",
        "\t\t\tlog(now, \"sent packet of size \"+TOTAL_PACKETSIZE+\" n. \"+totSent);\n",
        "\t\t\tmayProceed = false;\n",
        "\t\t}\n",
        "\t}\n",
        "\n",
        "\tpublic void on_receive(int now, DataPacket p) {\n",
        "\t\tlog(now, \"ack packet: \"+p+\" pl: \"+new String(p.getPayload()));\n",
        "\t\tmayProceed = true;\n",
        "\t\tif (totSent == totalBlocks ) {\n",
        "\t\t\ttransferTime = now - startTime;\n",
        "\t\t\ttotBytesTransferred = TOTAL_PACKETSIZE*totalBlocks;\n",
        "\t\t\tfloat transferTimeInSeconds = (float)transferTime / 1000;\n",
        "\t\t\te2eTransferRate = (int)(totBytesTransferred*8 / transferTimeInSeconds);\n",
        "\t\t\tlog(now, totBytesTransferred+\" bytes transferred in \"+transferTime+\" ms at \"+e2eTransferRate+\" bps e2e rate\");\n",
        "\t\t}\n",
        "\t}\n",
        "\n",
        "\tpublic void showState(int now) {\n",
        "\t\tSystem.out.println(name + \" sent \" + totSent + \" packets with blocks\");\n",
        "\t\tSystem.out.println(name+\" \"+totBytesTransferred+\" bytes transferred in \"\n",
        "\t\t\t\t+transferTime+\" ms at \"+e2eTransferRate+\" bps e2e rate\");\n",
        "\t}\n",
        "}"
      ],
      "execution_count": null,
      "outputs": []
    },
    {
      "cell_type": "markdown",
      "metadata": {
        "id": "QfLCokmyI33r"
      },
      "source": [
        "The on_clock_tick(int now) upcall executes a regular pattern: it tests conditions before performing some action (the action pre-conditions). If these conditions are met, it executes some action, otherwise does nothing. There may exist more than one action, each with its own pre-condition. In the presented example, the precondition is\n",
        "\n",
        "`mayProceed && totSent < totalBlocks`"
      ]
    },
    {
      "cell_type": "markdown",
      "metadata": {
        "id": "04yELyuqI5Rm"
      },
      "source": [
        "that is, there are data blocks or packets to send (we have not yet sent them all) and nothing prevents us from sending. If that pre-condition is valid, a packet is sent and the variable mayProceed becomes false, since the sender enters the wait state, waiting for the reception of the ACK (the \"stop transmitting and wait\" in the name S&W of the protocol). In fact, that variable records the state of the execution of the protocol. If it is true, the sender can send one packet, otherwise it must wait for this state to become true, i.e., \"one more packet can be sent if one is available\".\n",
        "\n",
        "The on_receive(...) upcall processes the received ACKs. It logs the reception and changes the state to mayProceed = true since the sender may proceed. If it is the last ACK, it computes the transfer rate.\n",
        "\n",
        "This pattern of an application algorithm is well suited to express algorithms as automata. The upcalls on_clock_tick(), on_receive(), on_timeout() etc. may all be structured as a kind of \"switch\" over state conditions (or automaton state), perform the state corresponding actions and possibly send packets, and, finally, update the state. This kind of pattern is useful to structure certain protocol algorithms better than with a serial sequence of series of actions. With this pattern, these algorithms in CNSS execute as a succession of processing steps, each made of actions related to the current state, followed by a state change, and then wait for the next processing step or event. It is what is called an event-processing like program structure.\n",
        "\n",
        "In CNSS these automata are never ending and may perform too much empty actions if they use very small clock_ticks. Small clock periods may be required to answer state changes timely. In the real world, that would be a solution that wastes CPU cycles, however, as this is just a simulation, the pattern may be implemented as illustrated, without very severe drawbacks. Parameter stop can be used to prevent the simulation of never ending. The only bizarre side efefct is the warning shown by CNSS:\n",
        "\n",
        "`warning - 1 events not run; stoped too early?`\n",
        "\n",
        "because the next clock tick was not executed. It is also possible to stop the simulation calling System.exit() in an upcall, but that should be considered bad practive since it is an abrupt halt and may prevent the processing of some events scheduled to happen later.\n",
        "\n"
      ]
    },
    {
      "cell_type": "markdown",
      "metadata": {
        "id": "wTNqdJO-JcPe"
      },
      "source": [
        "### Experiment 6\n",
        "\n",
        "Experiment number 6 corresponds to the transfer of a file of 100 packets from node 0 to node 1 using the NaifSwSenderP.java implementation of the S&W protocol. You can run it by issuing the command\n"
      ]
    },
    {
      "cell_type": "code",
      "metadata": {
        "id": "AW95OdtaJiGF"
      },
      "source": [
        "%%writefile config1.6.txt\n",
        "# A network with a sender node and a receiver node interconnected\n",
        "# by two switches. All links have 1 Mbps bandwidth and 10 ms latency\n",
        "\n",
        "# uncomment if you want to see control algorithms traces\n",
        "# parameter trace\n",
        "\n",
        "parameter stop 30100\n",
        "\n",
        "Node 0 1 cnss.lib.EndSystemControl NaifSwSenderP 100\n",
        "Node 1 1 cnss.lib.EndSystemControl FilesReceiverAck\n",
        "Node 2 2 cnss.lib.FloodingSwitch cnss.lib.EmptyApp\n",
        "Node 3 2 cnss.lib.FloodingSwitch cnss.lib.EmptyApp\n",
        "\n",
        "Link 0.0 2.0 2000000 20 0.0 0.0\n",
        "Link 2.1 3.0 2000000 20 0.0 0.0\n",
        "Link 3.1 1.0 2000000 20 0.0 0.0\n",
        "\n",
        "dumpAppState 30000 all"
      ],
      "execution_count": null,
      "outputs": []
    },
    {
      "cell_type": "code",
      "metadata": {
        "id": "wM0ti6RzJOO7"
      },
      "source": [
        "%%bash\n",
        "\n",
        "javac -cp .:cnss-classes *.java\n",
        "java -cp .:cnss-classes cnss.simulator.Simulator config1.6.txt"
      ],
      "execution_count": null,
      "outputs": []
    },
    {
      "cell_type": "markdown",
      "metadata": {
        "id": "KszispTmKUhw"
      },
      "source": [
        "#### Analysis\n",
        "It is interesting to note that this solution takes 1 extra millisecond than the previous one. Can you explain it? You may think of when the first packet has been sent and if it takes extra time from receiving an ACK and sending the next packet.\n",
        "\n",
        "For the sake of practicing this new pattern, you must use it in the next deliveries."
      ]
    }
  ]
}