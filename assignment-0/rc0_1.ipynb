{
  "nbformat": 4,
  "nbformat_minor": 0,
  "metadata": {
    "colab": {
      "name": "rc0-1.ipynb",
      "provenance": [],
      "collapsed_sections": []
    },
    "kernelspec": {
      "name": "python3",
      "display_name": "Python 3"
    }
  },
  "cells": [
    {
      "cell_type": "markdown",
      "metadata": {
        "id": "ZZGzuogRbQuG",
        "colab_type": "text"
      },
      "source": [
        "## CNSS (Computer Networks Simple Simulator)\n",
        "\n",
        "RC2020 Labs will use CNSS for part of the semester. CNSS makes it possible\n",
        "to code and simulate simple networking protocols. The simulation results\n",
        "are deterministic and repeatable, making it easier to reproduce and interpret them.\n",
        "\n",
        "CNSS is written in Java 8. The source code is publicly available and hosted at [GitHub](https://github.com/jlegatheaux/cnss)\n",
        "\n",
        "### Fetching CNSS\n",
        "\n",
        "For those still unfamiliar with GitHub repositories, there are several ways\n",
        "to access the source code.\n",
        "\n",
        "You can [download a zip archive](https://github.com/jlegatheaux/cnss/archive/master.zip) of the entire repository;\n",
        "\n",
        "You can also use [git](https://git-scm.com/) to clone the contents of the repository to a local directory, like so:"
      ]
    },
    {
      "cell_type": "code",
      "metadata": {
        "id": "1Dj4690SFEFD",
        "colab_type": "code",
        "colab": {
          "base_uri": "https://localhost:8080/",
          "height": 34
        },
        "outputId": "f46bfb65-2fef-4ca8-abae-1f9ef26ef61b"
      },
      "source": [
        "%%bash\n",
        "\n",
        "git clone https://github.com/jlegatheaux/cnss"
      ],
      "execution_count": null,
      "outputs": [
        {
          "output_type": "stream",
          "text": [
            "Cloning into 'cnss'...\n"
          ],
          "name": "stderr"
        }
      ]
    },
    {
      "cell_type": "markdown",
      "metadata": {
        "id": "Lxy6HlL1FxBc",
        "colab_type": "text"
      },
      "source": [
        "This will create a directory ***cnss*** in the current directory with a local repository with the latest version.\n",
        "\n",
        "You can refresh and update the local repository, by executing the following command in the repository folder:"
      ]
    },
    {
      "cell_type": "code",
      "metadata": {
        "id": "LxgZB6S0Ggi8",
        "colab_type": "code",
        "colab": {
          "base_uri": "https://localhost:8080/",
          "height": 34
        },
        "outputId": "6e184f87-a75d-4c28-aca0-0db9bdf3c96d"
      },
      "source": [
        "%%bash\n",
        "git -C cnss pull"
      ],
      "execution_count": null,
      "outputs": [
        {
          "output_type": "stream",
          "text": [
            "Already up to date.\n"
          ],
          "name": "stdout"
        }
      ]
    },
    {
      "cell_type": "markdown",
      "metadata": {
        "id": "wGsQSZPQHThD",
        "colab_type": "text"
      },
      "source": [
        "#### Eclipse Users\n",
        "\n",
        "CNSS can also be imported directly to Eclipse.\n",
        "\n",
        "For version 2020-06, the procedure is as follows:\n",
        "  * Copy the CNSS repository uri (https://github.com/jlegatheaux/cnss.git) into the clipboard;\n",
        "  * Navigate: ```File > Import > Git```, choose ```Projects from Git```, then ```Next```\n",
        "  * Choose ```Clone URI```, then ```Next``` twice.\n",
        "  * If asked, only select the ```master``` branch and press ```Next``` until finished.\n",
        "\n",
        "\n"
      ]
    },
    {
      "cell_type": "markdown",
      "metadata": {
        "id": "4jgsDdsEMGx4",
        "colab_type": "text"
      },
      "source": [
        "### Compiling CNSS manually\n",
        "\n",
        "CNSS has no external dependencies. \n",
        "\n",
        "At the root of the repository, the source code can be compiled in the command line, like so:"
      ]
    },
    {
      "cell_type": "code",
      "metadata": {
        "id": "scpfZfkAVbFs",
        "colab_type": "code",
        "colab": {}
      },
      "source": [
        "%%bash\n",
        "\n",
        "javac -d cnss-classes cnss/src/*/*/*.java"
      ],
      "execution_count": null,
      "outputs": []
    },
    {
      "cell_type": "markdown",
      "metadata": {
        "id": "b6ZeS63tWlgE",
        "colab_type": "text"
      },
      "source": [
        "The switch ```-d cnss-classes``` will place the resulting classes in the ```cnss-classes```directory."
      ]
    },
    {
      "cell_type": "markdown",
      "metadata": {
        "id": "v4hAhZJlYIOd",
        "colab_type": "text"
      },
      "source": [
        "### Running CNSS"
      ]
    },
    {
      "cell_type": "markdown",
      "metadata": {
        "id": "0KwxIWNPXTB2",
        "colab_type": "text"
      },
      "source": [
        "To run the simulator, a **plain text** configuration file is needed.\n",
        "\n",
        "\n",
        "We can use an empty file as its argument just to try out the simulator."
      ]
    },
    {
      "cell_type": "code",
      "metadata": {
        "id": "TBJVTzBPXsmO",
        "colab_type": "code",
        "colab": {
          "base_uri": "https://localhost:8080/",
          "height": 153
        },
        "outputId": "e35acb59-5379-4680-a5a1-967e75e4506b"
      },
      "source": [
        "%%bash\n",
        "echo > empty.config.txt\n",
        "\n",
        "java -cp .:cnss-classes cnss.simulator.Simulator empty.config.txt"
      ],
      "execution_count": null,
      "outputs": [
        {
          "output_type": "stream",
          "text": [
            "Loading configuration : empty.config.txt\n",
            "Reading file empty.config.txt\n",
            "\n",
            "simulation starts - first processing step with clock = 0\n",
            "\n",
            "\n",
            "simulation ended - last processing step with clock = 0\n",
            "\n"
          ],
          "name": "stdout"
        }
      ]
    },
    {
      "cell_type": "markdown",
      "metadata": {
        "id": "d7gOU14oYlzN",
        "colab_type": "text"
      },
      "source": [
        "### Eclipse Users\n",
        "\n",
        "Execute the [Simulator](https://github.com/jlegatheaux/cnss/blob/master/src/cnss/simulator/Simulator.java) class, using the desired configuration file as it sole argument.\n",
        "\n",
        "See [here](https://www.codejava.net/ides/eclipse/how-to-pass-arguments-when-running-a-java-program-in-eclipse) how to pass arguments to a Java program in Eclipse."
      ]
    }
  ]
}